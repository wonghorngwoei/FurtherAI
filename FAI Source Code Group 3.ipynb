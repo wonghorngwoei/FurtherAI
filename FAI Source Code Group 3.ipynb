{
 "cells": [
  {
   "cell_type": "markdown",
   "id": "5bc87a6f-9116-4a43-8391-960c732fa6f8",
   "metadata": {},
   "source": [
    "# Heart Disease Classification"
   ]
  },
  {
   "cell_type": "code",
   "execution_count": 1,
   "id": "df9784f8-647f-47f5-ab62-0cfd7fd827f2",
   "metadata": {
    "tags": []
   },
   "outputs": [],
   "source": [
    "# Import libraries\n",
    "import pandas as pd\n",
    "import matplotlib.pyplot as plt\n",
    "import seaborn as sns\n",
    "import numpy as np\n",
    "%matplotlib inline\n",
    "from sklearn import preprocessing\n",
    "from sklearn.model_selection import train_test_split\n",
    "from sklearn.metrics import accuracy_score, f1_score, precision_score\n",
    "from sklearn.metrics import ConfusionMatrixDisplay, confusion_matrix\n",
    "from sklearn.ensemble import RandomForestClassifier\n",
    "from sklearn.svm import SVC\n",
    "from sklearn.linear_model import LogisticRegression\n",
    "from sklearn.model_selection import cross_val_score"
   ]
  },
  {
   "cell_type": "markdown",
   "id": "543b1170-cb0c-46d9-a53f-b09b2cdf53ce",
   "metadata": {
    "tags": []
   },
   "source": [
    "## Data Reading"
   ]
  },
  {
   "cell_type": "code",
   "execution_count": 2,
   "id": "3b353017-6414-4a1a-ad00-f45f16a872e4",
   "metadata": {
    "tags": []
   },
   "outputs": [],
   "source": [
    "# Read data from the downloaded csv file\n",
    "heart = pd.read_csv(\"heart.csv\")"
   ]
  },
  {
   "cell_type": "markdown",
   "id": "e9e8f0e4-5d74-4f25-9f3a-cbaad4360208",
   "metadata": {
    "tags": []
   },
   "source": [
    "# 1. Exploratory Data Analysis"
   ]
  },
  {
   "cell_type": "markdown",
   "id": "61d0762a-677b-459c-b6a1-1e57a6670916",
   "metadata": {
    "tags": []
   },
   "source": [
    "## 1.1 Data Inspection"
   ]
  },
  {
   "cell_type": "code",
   "execution_count": 3,
   "id": "42cf1090-7c14-4405-8441-bc5927394703",
   "metadata": {
    "tags": []
   },
   "outputs": [
    {
     "data": {
      "text/html": [
       "<div>\n",
       "<style scoped>\n",
       "    .dataframe tbody tr th:only-of-type {\n",
       "        vertical-align: middle;\n",
       "    }\n",
       "\n",
       "    .dataframe tbody tr th {\n",
       "        vertical-align: top;\n",
       "    }\n",
       "\n",
       "    .dataframe thead th {\n",
       "        text-align: right;\n",
       "    }\n",
       "</style>\n",
       "<table border=\"1\" class=\"dataframe\">\n",
       "  <thead>\n",
       "    <tr style=\"text-align: right;\">\n",
       "      <th></th>\n",
       "      <th>Age</th>\n",
       "      <th>Sex</th>\n",
       "      <th>ChestPainType</th>\n",
       "      <th>RestingBP</th>\n",
       "      <th>Cholesterol</th>\n",
       "      <th>FastingBS</th>\n",
       "      <th>RestingECG</th>\n",
       "      <th>MaxHR</th>\n",
       "      <th>ExerciseAngina</th>\n",
       "      <th>Oldpeak</th>\n",
       "      <th>ST_Slope</th>\n",
       "      <th>HeartDisease</th>\n",
       "    </tr>\n",
       "  </thead>\n",
       "  <tbody>\n",
       "    <tr>\n",
       "      <th>0</th>\n",
       "      <td>40</td>\n",
       "      <td>M</td>\n",
       "      <td>ATA</td>\n",
       "      <td>140</td>\n",
       "      <td>289</td>\n",
       "      <td>0</td>\n",
       "      <td>Normal</td>\n",
       "      <td>172</td>\n",
       "      <td>N</td>\n",
       "      <td>0.0</td>\n",
       "      <td>Up</td>\n",
       "      <td>0</td>\n",
       "    </tr>\n",
       "    <tr>\n",
       "      <th>1</th>\n",
       "      <td>49</td>\n",
       "      <td>F</td>\n",
       "      <td>NAP</td>\n",
       "      <td>160</td>\n",
       "      <td>180</td>\n",
       "      <td>0</td>\n",
       "      <td>Normal</td>\n",
       "      <td>156</td>\n",
       "      <td>N</td>\n",
       "      <td>1.0</td>\n",
       "      <td>Flat</td>\n",
       "      <td>1</td>\n",
       "    </tr>\n",
       "    <tr>\n",
       "      <th>2</th>\n",
       "      <td>37</td>\n",
       "      <td>M</td>\n",
       "      <td>ATA</td>\n",
       "      <td>130</td>\n",
       "      <td>283</td>\n",
       "      <td>0</td>\n",
       "      <td>ST</td>\n",
       "      <td>98</td>\n",
       "      <td>N</td>\n",
       "      <td>0.0</td>\n",
       "      <td>Up</td>\n",
       "      <td>0</td>\n",
       "    </tr>\n",
       "    <tr>\n",
       "      <th>3</th>\n",
       "      <td>48</td>\n",
       "      <td>F</td>\n",
       "      <td>ASY</td>\n",
       "      <td>138</td>\n",
       "      <td>214</td>\n",
       "      <td>0</td>\n",
       "      <td>Normal</td>\n",
       "      <td>108</td>\n",
       "      <td>Y</td>\n",
       "      <td>1.5</td>\n",
       "      <td>Flat</td>\n",
       "      <td>1</td>\n",
       "    </tr>\n",
       "    <tr>\n",
       "      <th>4</th>\n",
       "      <td>54</td>\n",
       "      <td>M</td>\n",
       "      <td>NAP</td>\n",
       "      <td>150</td>\n",
       "      <td>195</td>\n",
       "      <td>0</td>\n",
       "      <td>Normal</td>\n",
       "      <td>122</td>\n",
       "      <td>N</td>\n",
       "      <td>0.0</td>\n",
       "      <td>Up</td>\n",
       "      <td>0</td>\n",
       "    </tr>\n",
       "  </tbody>\n",
       "</table>\n",
       "</div>"
      ],
      "text/plain": [
       "   Age Sex ChestPainType  RestingBP  Cholesterol  FastingBS RestingECG  MaxHR  \\\n",
       "0   40   M           ATA        140          289          0     Normal    172   \n",
       "1   49   F           NAP        160          180          0     Normal    156   \n",
       "2   37   M           ATA        130          283          0         ST     98   \n",
       "3   48   F           ASY        138          214          0     Normal    108   \n",
       "4   54   M           NAP        150          195          0     Normal    122   \n",
       "\n",
       "  ExerciseAngina  Oldpeak ST_Slope  HeartDisease  \n",
       "0              N      0.0       Up             0  \n",
       "1              N      1.0     Flat             1  \n",
       "2              N      0.0       Up             0  \n",
       "3              Y      1.5     Flat             1  \n",
       "4              N      0.0       Up             0  "
      ]
     },
     "execution_count": 3,
     "metadata": {},
     "output_type": "execute_result"
    }
   ],
   "source": [
    "# View the top records of the data\n",
    "heart.head()"
   ]
  },
  {
   "cell_type": "code",
   "execution_count": 4,
   "id": "6719bac1-0f07-4bbd-b91d-578c54809159",
   "metadata": {
    "tags": []
   },
   "outputs": [
    {
     "data": {
      "text/plain": [
       "(918, 12)"
      ]
     },
     "execution_count": 4,
     "metadata": {},
     "output_type": "execute_result"
    }
   ],
   "source": [
    "# View the dimensions of the data\n",
    "heart.shape"
   ]
  },
  {
   "cell_type": "markdown",
   "id": "bea8029b-1814-47e9-a004-91c3633cc73d",
   "metadata": {},
   "source": [
    "The data has 918 rows and 12 columns"
   ]
  },
  {
   "cell_type": "code",
   "execution_count": 5,
   "id": "08d0051f-888e-45ee-852c-ebee20767f4c",
   "metadata": {
    "tags": []
   },
   "outputs": [
    {
     "data": {
      "text/plain": [
       "Index(['Age', 'Sex', 'ChestPainType', 'RestingBP', 'Cholesterol', 'FastingBS',\n",
       "       'RestingECG', 'MaxHR', 'ExerciseAngina', 'Oldpeak', 'ST_Slope',\n",
       "       'HeartDisease'],\n",
       "      dtype='object')"
      ]
     },
     "execution_count": 5,
     "metadata": {},
     "output_type": "execute_result"
    }
   ],
   "source": [
    "# View the features of the data\n",
    "heart.columns"
   ]
  },
  {
   "cell_type": "code",
   "execution_count": 6,
   "id": "308c3bb9-d565-40e7-aa96-056650997e42",
   "metadata": {
    "tags": []
   },
   "outputs": [
    {
     "name": "stdout",
     "output_type": "stream",
     "text": [
      "<class 'pandas.core.frame.DataFrame'>\n",
      "RangeIndex: 918 entries, 0 to 917\n",
      "Data columns (total 12 columns):\n",
      " #   Column          Non-Null Count  Dtype  \n",
      "---  ------          --------------  -----  \n",
      " 0   Age             918 non-null    int64  \n",
      " 1   Sex             918 non-null    object \n",
      " 2   ChestPainType   918 non-null    object \n",
      " 3   RestingBP       918 non-null    int64  \n",
      " 4   Cholesterol     918 non-null    int64  \n",
      " 5   FastingBS       918 non-null    int64  \n",
      " 6   RestingECG      918 non-null    object \n",
      " 7   MaxHR           918 non-null    int64  \n",
      " 8   ExerciseAngina  918 non-null    object \n",
      " 9   Oldpeak         918 non-null    float64\n",
      " 10  ST_Slope        918 non-null    object \n",
      " 11  HeartDisease    918 non-null    int64  \n",
      "dtypes: float64(1), int64(6), object(5)\n",
      "memory usage: 86.2+ KB\n"
     ]
    }
   ],
   "source": [
    "# View the information of the data \n",
    "heart.info()"
   ]
  },
  {
   "cell_type": "markdown",
   "id": "872c6fb2-8d08-4d86-b8cc-8687664ec105",
   "metadata": {},
   "source": [
    "According to description on kaggle the variables carries the following meaning\n",
    "\n",
    "1. Age: age of the patient [years]\n",
    "2. Sex: sex of the patient [M: Male, F: Female]\n",
    "3. ChestPainType: chest pain type [TA: Typical Angina, ATA: Atypical Angina, NAP: Non-Anginal Pain, ASY: Asymptomatic]\n",
    "4. RestingBP: resting blood pressure [mm Hg]\n",
    "5. Cholesterol: serum cholesterol [mm/dl]\n",
    "6. FastingBS: fasting blood sugar [1: if FastingBS > 120 mg/dl, 0: otherwise]\n",
    "7. RestingECG: resting electrocardiogram results [Normal: Normal, ST: having ST-T wave abnormality (T wave inversions and/or ST elevation or depression of > 0.05 mV), LVH: showing probable or definite left ventricular hypertrophy by Estes' criteria]\n",
    "8. MaxHR: maximum heart rate achieved [Numeric value between 60 and 202]\n",
    "9. ExerciseAngina: exercise-induced angina [Y: Yes, N: No]\n",
    "10. Oldpeak: oldpeak = ST [Numeric value measured in depression]\n",
    "11. ST_Slope: the slope of the peak exercise ST segment [Up: upsloping, Flat: flat, Down: downsloping]\n",
    "12. HeartDisease: output class [1: heart disease, 0: Normal]"
   ]
  },
  {
   "cell_type": "markdown",
   "id": "1742e965-e873-45ba-9467-394b3ba88d29",
   "metadata": {},
   "source": [
    "All the features are important clinical information that used in previous research works"
   ]
  },
  {
   "cell_type": "markdown",
   "id": "330ce0d6-1eea-4b87-bab3-cb001b5fe4b9",
   "metadata": {
    "tags": []
   },
   "source": [
    "From the description, it could be identified that there are some categorical variables that need to be encoded before modelling phase "
   ]
  },
  {
   "cell_type": "markdown",
   "id": "7214bf80-d3d7-4e46-a0d7-a6e19e0bdd3b",
   "metadata": {
    "tags": []
   },
   "source": [
    "## 1.2 Data Cleaning"
   ]
  },
  {
   "cell_type": "code",
   "execution_count": 7,
   "id": "c3c02fa8-7a43-46e6-ab15-c8beb5b382a4",
   "metadata": {
    "tags": []
   },
   "outputs": [
    {
     "data": {
      "text/plain": [
       "Age               0\n",
       "Sex               0\n",
       "ChestPainType     0\n",
       "RestingBP         0\n",
       "Cholesterol       0\n",
       "FastingBS         0\n",
       "RestingECG        0\n",
       "MaxHR             0\n",
       "ExerciseAngina    0\n",
       "Oldpeak           0\n",
       "ST_Slope          0\n",
       "HeartDisease      0\n",
       "dtype: int64"
      ]
     },
     "execution_count": 7,
     "metadata": {},
     "output_type": "execute_result"
    }
   ],
   "source": [
    "# Check if there is column with null value\n",
    "heart.isnull().sum()"
   ]
  },
  {
   "cell_type": "markdown",
   "id": "3f7ebadd-b445-4a87-9f3e-e1a6d50aecfd",
   "metadata": {
    "tags": []
   },
   "source": [
    "There is no missing value in the dataset. The dataset is clean"
   ]
  },
  {
   "cell_type": "markdown",
   "id": "ac3298d6-a470-410b-8c4a-ba04c33dc9c7",
   "metadata": {
    "tags": []
   },
   "source": [
    "## 1.3 Outlier Detection"
   ]
  },
  {
   "cell_type": "code",
   "execution_count": 8,
   "id": "46c500ca-5fb5-462e-9c8f-b4cc3a613f6e",
   "metadata": {
    "tags": []
   },
   "outputs": [
    {
     "data": {
      "text/plain": [
       "Text(0.5, 1.0, 'RestingBP Boxplot')"
      ]
     },
     "execution_count": 8,
     "metadata": {},
     "output_type": "execute_result"
    },
    {
     "data": {
      "image/png": "[encoded data removed]",
      "text/plain": [
       "<Figure size 432x288 with 1 Axes>"
      ]
     },
     "metadata": {
      "needs_background": "light"
     },
     "output_type": "display_data"
    }
   ],
   "source": [
    "# Create a box plot for Resting BP\n",
    "sns.boxplot(data = heart, x=\"RestingBP\")\n",
    "plt.title('RestingBP Boxplot')"
   ]
  },
  {
   "cell_type": "markdown",
   "id": "f91d4b21-be1e-4cba-b869-48c34f694d45",
   "metadata": {
    "tags": []
   },
   "source": [
    "From the boxplot above, outlier is detected. The variable should be further inspected"
   ]
  },
  {
   "cell_type": "code",
   "execution_count": 9,
   "id": "e948530b-4f91-48d0-9256-76f698949825",
   "metadata": {
    "tags": []
   },
   "outputs": [
    {
     "data": {
      "text/plain": [
       "count    918.000000\n",
       "mean     132.396514\n",
       "std       18.514154\n",
       "min        0.000000\n",
       "25%      120.000000\n",
       "50%      130.000000\n",
       "75%      140.000000\n",
       "max      200.000000\n",
       "Name: RestingBP, dtype: float64"
      ]
     },
     "execution_count": 9,
     "metadata": {},
     "output_type": "execute_result"
    }
   ],
   "source": [
    "# View statistical properties of Resting BP\n",
    "heart[\"RestingBP\"].describe()"
   ]
  },
  {
   "cell_type": "markdown",
   "id": "ab9bac07-7fea-425f-986e-1c8067f50bcc",
   "metadata": {
    "tags": []
   },
   "source": [
    "The min value for the Resting Blood Pressure is 0. This should be impossible. Observations with 0 RestingBP is inspected."
   ]
  },
  {
   "cell_type": "code",
   "execution_count": 10,
   "id": "2193da91-7881-402a-82e2-b9199937ee68",
   "metadata": {
    "tags": []
   },
   "outputs": [
    {
     "data": {
      "text/html": [
       "<div>\n",
       "<style scoped>\n",
       "    .dataframe tbody tr th:only-of-type {\n",
       "        vertical-align: middle;\n",
       "    }\n",
       "\n",
       "    .dataframe tbody tr th {\n",
       "        vertical-align: top;\n",
       "    }\n",
       "\n",
       "    .dataframe thead th {\n",
       "        text-align: right;\n",
       "    }\n",
       "</style>\n",
       "<table border=\"1\" class=\"dataframe\">\n",
       "  <thead>\n",
       "    <tr style=\"text-align: right;\">\n",
       "      <th></th>\n",
       "      <th>Age</th>\n",
       "      <th>Sex</th>\n",
       "      <th>ChestPainType</th>\n",
       "      <th>RestingBP</th>\n",
       "      <th>Cholesterol</th>\n",
       "      <th>FastingBS</th>\n",
       "      <th>RestingECG</th>\n",
       "      <th>MaxHR</th>\n",
       "      <th>ExerciseAngina</th>\n",
       "      <th>Oldpeak</th>\n",
       "      <th>ST_Slope</th>\n",
       "      <th>HeartDisease</th>\n",
       "    </tr>\n",
       "  </thead>\n",
       "  <tbody>\n",
       "    <tr>\n",
       "      <th>449</th>\n",
       "      <td>55</td>\n",
       "      <td>M</td>\n",
       "      <td>NAP</td>\n",
       "      <td>0</td>\n",
       "      <td>0</td>\n",
       "      <td>0</td>\n",
       "      <td>Normal</td>\n",
       "      <td>155</td>\n",
       "      <td>N</td>\n",
       "      <td>1.5</td>\n",
       "      <td>Flat</td>\n",
       "      <td>1</td>\n",
       "    </tr>\n",
       "  </tbody>\n",
       "</table>\n",
       "</div>"
      ],
      "text/plain": [
       "     Age Sex ChestPainType  RestingBP  Cholesterol  FastingBS RestingECG  \\\n",
       "449   55   M           NAP          0            0          0     Normal   \n",
       "\n",
       "     MaxHR ExerciseAngina  Oldpeak ST_Slope  HeartDisease  \n",
       "449    155              N      1.5     Flat             1  "
      ]
     },
     "execution_count": 10,
     "metadata": {},
     "output_type": "execute_result"
    }
   ],
   "source": [
    "# Filter record with RestingBP equals to 0\n",
    "heart[heart[\"RestingBP\"] == 0]"
   ]
  },
  {
   "cell_type": "markdown",
   "id": "96f0bc0e-add0-40fa-9fcb-ef0136ac2cb9",
   "metadata": {
    "tags": []
   },
   "source": [
    "There is only one observation. This observation will be removed"
   ]
  },
  {
   "cell_type": "code",
   "execution_count": 11,
   "id": "97d06609-338c-4315-822e-2a7bb79b822b",
   "metadata": {
    "tags": []
   },
   "outputs": [],
   "source": [
    "# Remove the record that has 0 Resting BP\n",
    "heart = heart[heart[\"RestingBP\"] != 0]"
   ]
  },
  {
   "cell_type": "code",
   "execution_count": 12,
   "id": "f4324442-44cc-43c7-a235-8f6e6490b73b",
   "metadata": {
    "tags": []
   },
   "outputs": [
    {
     "data": {
      "text/plain": [
       "Text(0.5, 1.0, 'RestingBP Boxplot')"
      ]
     },
     "execution_count": 12,
     "metadata": {},
     "output_type": "execute_result"
    },
    {
     "data": {
      "image/png": "[encoded data removed]",
      "text/plain": [
       "<Figure size 432x288 with 1 Axes>"
      ]
     },
     "metadata": {
      "needs_background": "light"
     },
     "output_type": "display_data"
    }
   ],
   "source": [
    "# Create a box plot for Resting BP\n",
    "sns.boxplot(data = heart, x=\"RestingBP\")\n",
    "plt.title('RestingBP Boxplot')"
   ]
  },
  {
   "cell_type": "markdown",
   "id": "8e9709d9-652e-4c47-82e5-2b2b5a5f3b16",
   "metadata": {},
   "source": [
    "The distribution changed significantly. This has justified the removal. The reason for that outlier presence could be measurement error or other systematic error."
   ]
  },
  {
   "cell_type": "markdown",
   "id": "f8d2d6a1-853c-4299-b448-06aa94b2fed9",
   "metadata": {
    "tags": []
   },
   "source": [
    "## 1.4 Data Understanding"
   ]
  },
  {
   "cell_type": "code",
   "execution_count": 13,
   "id": "acca1d82-6b82-4a5c-aff7-31784aaca341",
   "metadata": {
    "tags": []
   },
   "outputs": [
    {
     "name": "stdout",
     "output_type": "stream",
     "text": [
      "1    507\n",
      "0    410\n",
      "Name: HeartDisease, dtype: int64\n",
      "Percentage of class with heart diseases : 55.29 %\n",
      "Percentage of class normal : 44.71 %\n"
     ]
    }
   ],
   "source": [
    "# View number of records for each label\n",
    "print(heart[\"HeartDisease\"].value_counts())\n",
    "\n",
    "# Compute the percentage of records for each label\n",
    "perc_of_classes = heart[\"HeartDisease\"].value_counts().values / len(heart) * 100\n",
    "print(\"Percentage of class with heart diseases : {:.2f} %\".format(perc_of_classes[0]))\n",
    "print(\"Percentage of class normal : {:.2f} %\".format(perc_of_classes[1]))"
   ]
  },
  {
   "cell_type": "code",
   "execution_count": 14,
   "id": "0280cf29-f3e7-4624-a37d-26362ebc5abd",
   "metadata": {
    "tags": []
   },
   "outputs": [
    {
     "data": {
      "text/plain": [
       "Text(0.5, 1.0, 'Number of observations per class')"
      ]
     },
     "execution_count": 14,
     "metadata": {},
     "output_type": "execute_result"
    },
    {
     "data": {
      "image/png": "[encoded data removed]",
      "text/plain": [
       "<Figure size 432x288 with 1 Axes>"
      ]
     },
     "metadata": {
      "needs_background": "light"
     },
     "output_type": "display_data"
    }
   ],
   "source": [
    "# Generate a bar plot showing No of records per label\n",
    "target_counts = heart['HeartDisease'].value_counts().values\n",
    "\n",
    "# Create the labels for the bars\n",
    "bc = sns.countplot(x=\"HeartDisease\", data=heart, order=heart['HeartDisease'].value_counts().index)\n",
    "bc.bar_label(container=bc.containers[0], labels=target_counts)\n",
    "plt.title('Number of observations per class')"
   ]
  },
  {
   "cell_type": "markdown",
   "id": "69b9177e-f9ac-4426-b130-68951e6b5257",
   "metadata": {
    "tags": []
   },
   "source": [
    "The number of observations that has label 0 and 1 are almost equal (44.71 % and 55.29 %). The dataset is a balanced dataset."
   ]
  },
  {
   "cell_type": "code",
   "execution_count": 15,
   "id": "f94a00ca-782d-4d19-9e68-30534b11247b",
   "metadata": {
    "tags": []
   },
   "outputs": [
    {
     "name": "stdout",
     "output_type": "stream",
     "text": [
      "Average age : 53.51\n"
     ]
    },
    {
     "data": {
      "image/png": "[encoded data removed]",
      "text/plain": [
       "<Figure size 432x288 with 1 Axes>"
      ]
     },
     "metadata": {
      "needs_background": "light"
     },
     "output_type": "display_data"
    }
   ],
   "source": [
    "# Create the histogram for Age\n",
    "sns.histplot(heart, x = \"Age\",  bins=[0, 10, 20, 30, 40, 50, 60, 70, 80, 90])\n",
    "plt.title('Age Histogram')\n",
    "\n",
    "# Compute the mean age\n",
    "print(\"Average age : {:.2f}\".format(heart[\"Age\"].mean()))"
   ]
  },
  {
   "cell_type": "code",
   "execution_count": 16,
   "id": "5ca104ce-a1bc-4695-a93b-3f2840099eef",
   "metadata": {
    "tags": []
   },
   "outputs": [
    {
     "name": "stdout",
     "output_type": "stream",
     "text": [
      "Average age for observations without heart disease: 50.55\n",
      "Average age for observations with heart disease: 55.90\n"
     ]
    },
    {
     "data": {
      "image/png": "[encoded data removed]",
      "text/plain": [
       "<Figure size 936x360 with 2 Axes>"
      ]
     },
     "metadata": {
      "needs_background": "light"
     },
     "output_type": "display_data"
    }
   ],
   "source": [
    "#  Create the histogram of age for records without heart disease\n",
    "plt.figure(figsize=(13,5))\n",
    "plt.subplot(1, 2, 1)\n",
    "sns.histplot(heart[heart['HeartDisease'] == 0], x=\"Age\", bins=[0, 10, 20, 30, 40, \n",
    "                                                               50, 60, 70, 80, 90])\n",
    "\n",
    "plt.title('Age Histogram for Observations without Heart Disease')\n",
    "\n",
    "#  Create the histogram of age for records with heart disease\n",
    "plt.subplot(1, 2, 2)\n",
    "sns.histplot(heart[heart['HeartDisease'] == 1], x=\"Age\", bins=[0, 10, 20, 30, 40, \n",
    "                                                               50, 60, 70, 80, 90])\n",
    "plt.title('Age Histogram for Observations with Heart Disease')\n",
    "\n",
    "# Compute the mean of age for records without and with heart disease\n",
    "print(\"Average age for observations without heart disease: {:.2f}\".format(\n",
    "    heart[heart['HeartDisease'] == 0][\"Age\"].mean()))\n",
    "print(\"Average age for observations with heart disease: {:.2f}\".format(\n",
    "    heart[heart['HeartDisease'] == 1][\"Age\"].mean()))"
   ]
  },
  {
   "cell_type": "markdown",
   "id": "1d3b9533-c671-4678-a07a-2d3298aee530",
   "metadata": {
    "tags": []
   },
   "source": [
    "From the histograms, there is not a clear pattern that could be observed. But at least it could be observed that for a person between 50-60 years old, the proportion of getting a heart disease and not getting is about equal.\n",
    "It could be observed that 60-70 years old have higher risk for getting heart diseases.\n",
    "The average age of people who have heart disease is slightly older than those without."
   ]
  },
  {
   "cell_type": "code",
   "execution_count": 17,
   "id": "7537ef9c-6518-4e09-a4d9-83efb923eac2",
   "metadata": {
    "tags": []
   },
   "outputs": [
    {
     "data": {
      "text/plain": [
       "Text(0.5, 1.0, 'Number of Observations per Chest Pain')"
      ]
     },
     "execution_count": 17,
     "metadata": {},
     "output_type": "execute_result"
    },
    {
     "data": {
      "image/png": "[encoded data removed]",
      "text/plain": [
       "<Figure size 432x288 with 1 Axes>"
      ]
     },
     "metadata": {
      "needs_background": "light"
     },
     "output_type": "display_data"
    }
   ],
   "source": [
    "# Generate a bar plot showing No of records per chest pain\n",
    "bc = sns.countplot(x=\"ChestPainType\", data=heart)\n",
    "plt.xlabel(\"Chest Pain Types\")\n",
    "plt.title('Number of Observations per Chest Pain')"
   ]
  },
  {
   "cell_type": "markdown",
   "id": "85b97810-9b59-4872-809f-20c951371a43",
   "metadata": {},
   "source": [
    "Asymptomatic (ASY) chest pain is the most common type of chest pain"
   ]
  },
  {
   "cell_type": "code",
   "execution_count": 18,
   "id": "5bf284d4-491a-44e5-a544-d87b724a09f0",
   "metadata": {
    "tags": []
   },
   "outputs": [
    {
     "data": {
      "text/plain": [
       "Text(0.5, 1.0, 'Number of Heart Disease Presences per Chest Pain')"
      ]
     },
     "execution_count": 18,
     "metadata": {},
     "output_type": "execute_result"
    },
    {
     "data": {
      "image/png": "[encoded data removed]",
      "text/plain": [
       "<Figure size 432x288 with 1 Axes>"
      ]
     },
     "metadata": {
      "needs_background": "light"
     },
     "output_type": "display_data"
    }
   ],
   "source": [
    "# Sum the value group by ChestPainType, this allow the total Heart Disease (with label 1) \n",
    "# to be computed\n",
    "heart_gb_cp_sum = heart.groupby(\"ChestPainType\").sum(numeric_only = True)\n",
    "\n",
    "# Generate a bar plot showing No of Heart Diseases per chest pain\n",
    "sns.barplot(x=heart_gb_cp_sum.index, y = \"HeartDisease\", data=heart_gb_cp_sum)\n",
    "plt.xlabel(\"Chest Pain Types\")\n",
    "plt.ylabel(\"Number of Heart Diseases\")\n",
    "plt.title('Number of Heart Disease Presences per Chest Pain')"
   ]
  },
  {
   "cell_type": "markdown",
   "id": "fb45e0ed-1afe-4bee-ba29-66ff08c2fe17",
   "metadata": {
    "tags": []
   },
   "source": [
    "Asymptomatic (ASY) chest pain is the most common chest pain for people with heart disease, the proportion is significantly larger than other types of chest pain"
   ]
  },
  {
   "cell_type": "code",
   "execution_count": 19,
   "id": "94de1b4d-7053-46e9-9e50-094291aea39b",
   "metadata": {},
   "outputs": [
    {
     "name": "stdout",
     "output_type": "stream",
     "text": [
      "Average Cholesterol for observations without heart disease: 227.12\n",
      "Average Cholesterol for observations with heart disease: 176.29\n"
     ]
    },
    {
     "data": {
      "image/png": "[encoded data removed]",
      "text/plain": [
       "<Figure size 936x360 with 2 Axes>"
      ]
     },
     "metadata": {
      "needs_background": "light"
     },
     "output_type": "display_data"
    }
   ],
   "source": [
    "#  Create the histogram of cholesterol for records without heart disease\n",
    "plt.figure(figsize=(13,5))\n",
    "plt.subplot(1, 2, 1)\n",
    "sns.histplot(heart[heart['HeartDisease'] == 0], x=\"Cholesterol\", bins=[0, 100, 200, \n",
    "                                                                       300, 400, 500, 600, 700])\n",
    "\n",
    "plt.title('Cholesterol Histogram for Observations without Heart Disease')\n",
    "\n",
    "#  Create the histogram of cholesterol for records with heart disease\n",
    "plt.subplot(1, 2, 2)\n",
    "sns.histplot(heart[heart['HeartDisease'] == 1], x=\"Cholesterol\", bins=[0, 100, 200, \n",
    "                                                                       300, 400, 500, 600, 700])\n",
    "plt.title('Cholesterol Histogram for Observations with Heart Disease')\n",
    "\n",
    "#  Compute the mean of cholesterol for records without and with heart disease\n",
    "print(\"Average Cholesterol for observations without heart disease: {:.2f}\".format(\n",
    "    heart[heart['HeartDisease'] == 0][\"Cholesterol\"].mean()))\n",
    "print(\"Average Cholesterol for observations with heart disease: {:.2f}\".format(\n",
    "    heart[heart['HeartDisease'] == 1][\"Cholesterol\"].mean()))"
   ]
  },
  {
   "cell_type": "markdown",
   "id": "9048d865-35a3-44aa-b73a-2550bec99722",
   "metadata": {},
   "source": [
    "People with heart disease has a mean serum cholesterol lower than normal people.\n",
    "\n",
    "From the histogram, it could be observed that people with too low serum cholesterol (0-100 mm Hg), have a higher risk to have heart diseases. "
   ]
  },
  {
   "cell_type": "code",
   "execution_count": 20,
   "id": "72d444d0-a7ac-45fb-9332-0aed06aad798",
   "metadata": {
    "tags": []
   },
   "outputs": [
    {
     "data": {
      "text/plain": [
       "[Text(0, 0, 'No'), Text(1, 0, 'Yes')]"
      ]
     },
     "execution_count": 20,
     "metadata": {},
     "output_type": "execute_result"
    },
    {
     "data": {
      "image/png": "[encoded data removed]",
      "text/plain": [
       "<Figure size 432x288 with 1 Axes>"
      ]
     },
     "metadata": {
      "needs_background": "light"
     },
     "output_type": "display_data"
    }
   ],
   "source": [
    "# Create bar plot showing no of observations per Exercise Angina\n",
    "ax = sns.countplot(x=\"ExerciseAngina\", data=heart)\n",
    "plt.xlabel(\"Exercise Induced Angina\")\n",
    "plt.title('Number of Observations per Exercise Angina')\n",
    "ax.set_xticklabels(['No', 'Yes'])"
   ]
  },
  {
   "cell_type": "markdown",
   "id": "ed4cb88a-1c0e-4615-9850-5d6a4ac1d56c",
   "metadata": {
    "tags": []
   },
   "source": [
    "The number observations which has no exercise induced angine (a chest pain induced by exercise) is higher"
   ]
  },
  {
   "cell_type": "code",
   "execution_count": 21,
   "id": "f51d1242-d941-4975-92ac-f0a810dcd41e",
   "metadata": {
    "tags": []
   },
   "outputs": [
    {
     "data": {
      "text/plain": [
       "<matplotlib.legend.Legend at 0x1b7569a6790>"
      ]
     },
     "execution_count": 21,
     "metadata": {},
     "output_type": "execute_result"
    },
    {
     "data": {
      "image/png": "[encoded data removed]",
      "text/plain": [
       "<Figure size 432x288 with 1 Axes>"
      ]
     },
     "metadata": {
      "needs_background": "light"
     },
     "output_type": "display_data"
    }
   ],
   "source": [
    "# Create bar plot showing no of observations per Exercise Angina and Heart Disease\n",
    "ax = sns.countplot(x=\"HeartDisease\", hue=\"ExerciseAngina\" , data=heart)\n",
    "plt.title('Number of observations per Heart Disease and Exercise Angina')\n",
    "ax.legend(title='ExerciseAngina', labels=['No', 'Yes'])"
   ]
  },
  {
   "cell_type": "markdown",
   "id": "256ea430-fa6e-465a-af4c-c273ca090295",
   "metadata": {
    "tags": []
   },
   "source": [
    "People without heart disease mostly does not have exercise induced angina. While among people who have heart disease, the number of people who have exercise induced angina is higher"
   ]
  },
  {
   "cell_type": "code",
   "execution_count": 22,
   "id": "5e392595-8efe-4b50-b08c-be34698e6fac",
   "metadata": {
    "tags": []
   },
   "outputs": [
    {
     "name": "stdout",
     "output_type": "stream",
     "text": [
      "Average Oldpeak for observations without heart disease: 0.41\n",
      "Average Oldpeak for observations with heart disease: 1.27\n"
     ]
    },
    {
     "data": {
      "image/png": "[encoded data removed]",
      "text/plain": [
       "<Figure size 432x288 with 1 Axes>"
      ]
     },
     "metadata": {
      "needs_background": "light"
     },
     "output_type": "display_data"
    }
   ],
   "source": [
    "# Create boxplot of Oldpeak seperated by Heart Disease\n",
    "sns.boxplot(x ='HeartDisease', y = \"Oldpeak\" , data =heart)\n",
    "plt.title('Boxplot of Oldpeak seperated by Heart Disease')\n",
    "\n",
    "#  Compute the mean of Oldpeak for records without and with heart disease\n",
    "print(\"Average Oldpeak for observations without heart disease: {:.2f}\".format(\n",
    "    heart[heart['HeartDisease'] == 0][\"Oldpeak\"].mean()))\n",
    "print(\"Average Oldpeak for observations with heart disease: {:.2f}\".format(\n",
    "    heart[heart['HeartDisease'] == 1][\"Oldpeak\"].mean()))"
   ]
  },
  {
   "cell_type": "markdown",
   "id": "eff07ecd-6377-4480-8e8f-2c9c0cd09bbc",
   "metadata": {
    "tags": []
   },
   "source": [
    "The average oldpeak for person without heart disease is lower"
   ]
  },
  {
   "cell_type": "code",
   "execution_count": 23,
   "id": "0cc3702f-d3db-42c7-81dc-2974c4e7e4d8",
   "metadata": {
    "tags": []
   },
   "outputs": [
    {
     "name": "stdout",
     "output_type": "stream",
     "text": [
      "Average MaxHR for observations without heart disease: 148.15\n",
      "Average MaxHR for observations with heart disease: 127.60\n"
     ]
    },
    {
     "data": {
      "image/png": "[encoded data removed]",
      "text/plain": [
       "<Figure size 432x288 with 1 Axes>"
      ]
     },
     "metadata": {
      "needs_background": "light"
     },
     "output_type": "display_data"
    }
   ],
   "source": [
    "# Create boxplot of MaxHR seperated by Heart Disease\n",
    "sns.boxplot(x ='HeartDisease', y = \"MaxHR\" , data =heart)\n",
    "plt.title('Boxplot of MaxHR seperated by Heart Disease')\n",
    "\n",
    "#  Compute the mean of MaxHR for records without and with heart disease\n",
    "print(\"Average MaxHR for observations without heart disease: {:.2f}\".format(\n",
    "    heart[heart['HeartDisease'] == 0][\"MaxHR\"].mean()))\n",
    "print(\"Average MaxHR for observations with heart disease: {:.2f}\".format(\n",
    "    heart[heart['HeartDisease'] == 1][\"MaxHR\"].mean()))"
   ]
  },
  {
   "cell_type": "markdown",
   "id": "eddbc911-0cf6-4ec6-9020-d1fa9634f1ff",
   "metadata": {
    "tags": []
   },
   "source": [
    "The average maximum heart rate achieved for person without heart disease is higher"
   ]
  },
  {
   "cell_type": "code",
   "execution_count": 24,
   "id": "8467b369-31ed-497d-b6f1-b01c799a5d8c",
   "metadata": {
    "tags": []
   },
   "outputs": [
    {
     "data": {
      "text/plain": [
       "Text(0.5, 1.0, 'Heatmap for Correlation of Heart Disease, MaxHR, and Oldpeak')"
      ]
     },
     "execution_count": 24,
     "metadata": {},
     "output_type": "execute_result"
    },
    {
     "data": {
      "image/png": "[encoded data removed]",
      "text/plain": [
       "<Figure size 432x288 with 2 Axes>"
      ]
     },
     "metadata": {
      "needs_background": "light"
     },
     "output_type": "display_data"
    }
   ],
   "source": [
    "# Create heatmap showing correlation of MaxHR, Oldpeak and Heart Disease\n",
    "sns.heatmap(heart[[\"HeartDisease\",\"MaxHR\",\"Oldpeak\"]].corr(), annot=True)\n",
    "plt.title('Heatmap for Correlation of Heart Disease, MaxHR, and Oldpeak')"
   ]
  },
  {
   "cell_type": "markdown",
   "id": "ebf1b025-def0-4daf-9398-cad945ae7e91",
   "metadata": {
    "tags": []
   },
   "source": [
    "The heatmap above very good summarise the information conveyed by the 2 boxplots above.\n",
    "\n",
    "Both Oldpeak and MaxHR (maximum heart rate achieved) shows a moderate correlation (0.4) with heart disease\n",
    "\n",
    "While the MaxHR is negative correlation and Oldpeak is positive correlation"
   ]
  },
  {
   "cell_type": "code",
   "execution_count": 25,
   "id": "3d315c01-c4fc-4da1-a3e7-ffb51e251772",
   "metadata": {
    "tags": []
   },
   "outputs": [
    {
     "data": {
      "text/plain": [
       "Text(0.5, 1.0, 'Number of Observations per Heart Disease and ST_Slope')"
      ]
     },
     "execution_count": 25,
     "metadata": {},
     "output_type": "execute_result"
    },
    {
     "data": {
      "image/png": "[encoded data removed]",
      "text/plain": [
       "<Figure size 432x288 with 1 Axes>"
      ]
     },
     "metadata": {
      "needs_background": "light"
     },
     "output_type": "display_data"
    }
   ],
   "source": [
    "# Create bar plot showing no of observations per ST_Slope and Heart Disease\n",
    "ax = sns.countplot(x=\"HeartDisease\", hue=\"ST_Slope\" , data=heart)\n",
    "plt.title('Number of Observations per Heart Disease and ST_Slope')"
   ]
  },
  {
   "cell_type": "markdown",
   "id": "a12623d8-23f9-43c4-b9f7-4125adc3f5a2",
   "metadata": {
    "tags": []
   },
   "source": [
    "It could be observed that for normal people, most of them have Up ST_Slope\n",
    "\n",
    "While for people with heart disease, most of them have Flat ST_Slope"
   ]
  },
  {
   "cell_type": "markdown",
   "id": "78492b3f-97dd-4be2-b2ba-d40b97247960",
   "metadata": {},
   "source": [
    "# 2. Data Preparation"
   ]
  },
  {
   "cell_type": "markdown",
   "id": "f1cabff7-d84c-442e-a001-10bc051b23d8",
   "metadata": {
    "tags": []
   },
   "source": [
    "## 2.1 Column Transformation"
   ]
  },
  {
   "cell_type": "code",
   "execution_count": 26,
   "id": "47ef061e-283b-4c8a-817e-fe2ef82b1d27",
   "metadata": {},
   "outputs": [
    {
     "name": "stdout",
     "output_type": "stream",
     "text": [
      "<class 'pandas.core.frame.DataFrame'>\n",
      "Int64Index: 917 entries, 0 to 917\n",
      "Data columns (total 12 columns):\n",
      " #   Column          Non-Null Count  Dtype  \n",
      "---  ------          --------------  -----  \n",
      " 0   Age             917 non-null    int64  \n",
      " 1   Sex             917 non-null    object \n",
      " 2   ChestPainType   917 non-null    object \n",
      " 3   RestingBP       917 non-null    int64  \n",
      " 4   Cholesterol     917 non-null    int64  \n",
      " 5   FastingBS       917 non-null    int64  \n",
      " 6   RestingECG      917 non-null    object \n",
      " 7   MaxHR           917 non-null    int64  \n",
      " 8   ExerciseAngina  917 non-null    object \n",
      " 9   Oldpeak         917 non-null    float64\n",
      " 10  ST_Slope        917 non-null    object \n",
      " 11  HeartDisease    917 non-null    int64  \n",
      "dtypes: float64(1), int64(6), object(5)\n",
      "memory usage: 125.4+ KB\n"
     ]
    }
   ],
   "source": [
    "# View information of the data frame\n",
    "heart.info()"
   ]
  },
  {
   "cell_type": "markdown",
   "id": "d762cab9-10c1-4ac1-80e3-285074a36e3d",
   "metadata": {},
   "source": [
    "Some variable need to be encoded before the modelling phase"
   ]
  },
  {
   "cell_type": "code",
   "execution_count": 27,
   "id": "8fead83e-2415-46f9-a201-8ffcf3559c59",
   "metadata": {
    "tags": []
   },
   "outputs": [
    {
     "data": {
      "text/html": [
       "<div>\n",
       "<style scoped>\n",
       "    .dataframe tbody tr th:only-of-type {\n",
       "        vertical-align: middle;\n",
       "    }\n",
       "\n",
       "    .dataframe tbody tr th {\n",
       "        vertical-align: top;\n",
       "    }\n",
       "\n",
       "    .dataframe thead th {\n",
       "        text-align: right;\n",
       "    }\n",
       "</style>\n",
       "<table border=\"1\" class=\"dataframe\">\n",
       "  <thead>\n",
       "    <tr style=\"text-align: right;\">\n",
       "      <th></th>\n",
       "      <th>Age</th>\n",
       "      <th>Sex</th>\n",
       "      <th>ChestPainType</th>\n",
       "      <th>RestingBP</th>\n",
       "      <th>Cholesterol</th>\n",
       "      <th>FastingBS</th>\n",
       "      <th>RestingECG</th>\n",
       "      <th>MaxHR</th>\n",
       "      <th>ExerciseAngina</th>\n",
       "      <th>Oldpeak</th>\n",
       "      <th>ST_Slope</th>\n",
       "      <th>HeartDisease</th>\n",
       "    </tr>\n",
       "  </thead>\n",
       "  <tbody>\n",
       "    <tr>\n",
       "      <th>0</th>\n",
       "      <td>40</td>\n",
       "      <td>M</td>\n",
       "      <td>ATA</td>\n",
       "      <td>140</td>\n",
       "      <td>289</td>\n",
       "      <td>0</td>\n",
       "      <td>Normal</td>\n",
       "      <td>172</td>\n",
       "      <td>N</td>\n",
       "      <td>0.0</td>\n",
       "      <td>Up</td>\n",
       "      <td>0</td>\n",
       "    </tr>\n",
       "    <tr>\n",
       "      <th>1</th>\n",
       "      <td>49</td>\n",
       "      <td>F</td>\n",
       "      <td>NAP</td>\n",
       "      <td>160</td>\n",
       "      <td>180</td>\n",
       "      <td>0</td>\n",
       "      <td>Normal</td>\n",
       "      <td>156</td>\n",
       "      <td>N</td>\n",
       "      <td>1.0</td>\n",
       "      <td>Flat</td>\n",
       "      <td>1</td>\n",
       "    </tr>\n",
       "    <tr>\n",
       "      <th>2</th>\n",
       "      <td>37</td>\n",
       "      <td>M</td>\n",
       "      <td>ATA</td>\n",
       "      <td>130</td>\n",
       "      <td>283</td>\n",
       "      <td>0</td>\n",
       "      <td>ST</td>\n",
       "      <td>98</td>\n",
       "      <td>N</td>\n",
       "      <td>0.0</td>\n",
       "      <td>Up</td>\n",
       "      <td>0</td>\n",
       "    </tr>\n",
       "    <tr>\n",
       "      <th>3</th>\n",
       "      <td>48</td>\n",
       "      <td>F</td>\n",
       "      <td>ASY</td>\n",
       "      <td>138</td>\n",
       "      <td>214</td>\n",
       "      <td>0</td>\n",
       "      <td>Normal</td>\n",
       "      <td>108</td>\n",
       "      <td>Y</td>\n",
       "      <td>1.5</td>\n",
       "      <td>Flat</td>\n",
       "      <td>1</td>\n",
       "    </tr>\n",
       "    <tr>\n",
       "      <th>4</th>\n",
       "      <td>54</td>\n",
       "      <td>M</td>\n",
       "      <td>NAP</td>\n",
       "      <td>150</td>\n",
       "      <td>195</td>\n",
       "      <td>0</td>\n",
       "      <td>Normal</td>\n",
       "      <td>122</td>\n",
       "      <td>N</td>\n",
       "      <td>0.0</td>\n",
       "      <td>Up</td>\n",
       "      <td>0</td>\n",
       "    </tr>\n",
       "  </tbody>\n",
       "</table>\n",
       "</div>"
      ],
      "text/plain": [
       "   Age Sex ChestPainType  RestingBP  Cholesterol  FastingBS RestingECG  MaxHR  \\\n",
       "0   40   M           ATA        140          289          0     Normal    172   \n",
       "1   49   F           NAP        160          180          0     Normal    156   \n",
       "2   37   M           ATA        130          283          0         ST     98   \n",
       "3   48   F           ASY        138          214          0     Normal    108   \n",
       "4   54   M           NAP        150          195          0     Normal    122   \n",
       "\n",
       "  ExerciseAngina  Oldpeak ST_Slope  HeartDisease  \n",
       "0              N      0.0       Up             0  \n",
       "1              N      1.0     Flat             1  \n",
       "2              N      0.0       Up             0  \n",
       "3              Y      1.5     Flat             1  \n",
       "4              N      0.0       Up             0  "
      ]
     },
     "execution_count": 27,
     "metadata": {},
     "output_type": "execute_result"
    }
   ],
   "source": [
    "# view top records\n",
    "heart.head()"
   ]
  },
  {
   "cell_type": "code",
   "execution_count": 28,
   "id": "32a87820-4ec3-4a5c-9b1f-86396ece7d75",
   "metadata": {
    "tags": []
   },
   "outputs": [
    {
     "data": {
      "text/plain": [
       "M    724\n",
       "F    193\n",
       "Name: Sex, dtype: int64"
      ]
     },
     "execution_count": 28,
     "metadata": {},
     "output_type": "execute_result"
    }
   ],
   "source": [
    "# View possible values and its counts of sex\n",
    "heart['Sex'].value_counts()"
   ]
  },
  {
   "cell_type": "code",
   "execution_count": 29,
   "id": "32479f90-39c3-4cbe-856a-92ec6f0f7b37",
   "metadata": {
    "tags": []
   },
   "outputs": [
    {
     "data": {
      "text/plain": [
       "N    546\n",
       "Y    371\n",
       "Name: ExerciseAngina, dtype: int64"
      ]
     },
     "execution_count": 29,
     "metadata": {},
     "output_type": "execute_result"
    }
   ],
   "source": [
    "# View possible values and its counts of ExerciseAngina\n",
    "heart['ExerciseAngina'].value_counts()"
   ]
  },
  {
   "cell_type": "markdown",
   "id": "ff0dcd78-c7c2-4aed-bcfd-0068ca908b08",
   "metadata": {},
   "source": [
    "It has been confirmed that Sex and ExerciseAngina has 2 possible values only. For these kind of variables, LabelEncoder will be used"
   ]
  },
  {
   "cell_type": "code",
   "execution_count": 30,
   "id": "9804f622-583c-4385-8e03-76159f89ac32",
   "metadata": {
    "tags": []
   },
   "outputs": [],
   "source": [
    "# Create label encoder\n",
    "le = preprocessing.LabelEncoder()\n",
    "  \n",
    "# Encode sex and exerciseangina columns' values\n",
    "heart['Sex']= le.fit_transform(heart['Sex'])\n",
    "heart['ExerciseAngina']= le.fit_transform(heart['ExerciseAngina'])"
   ]
  },
  {
   "cell_type": "code",
   "execution_count": 31,
   "id": "ea294b9b-b66a-45f8-93eb-c61fc77d28b6",
   "metadata": {
    "tags": []
   },
   "outputs": [
    {
     "data": {
      "text/html": [
       "<div>\n",
       "<style scoped>\n",
       "    .dataframe tbody tr th:only-of-type {\n",
       "        vertical-align: middle;\n",
       "    }\n",
       "\n",
       "    .dataframe tbody tr th {\n",
       "        vertical-align: top;\n",
       "    }\n",
       "\n",
       "    .dataframe thead th {\n",
       "        text-align: right;\n",
       "    }\n",
       "</style>\n",
       "<table border=\"1\" class=\"dataframe\">\n",
       "  <thead>\n",
       "    <tr style=\"text-align: right;\">\n",
       "      <th></th>\n",
       "      <th>Age</th>\n",
       "      <th>Sex</th>\n",
       "      <th>ChestPainType</th>\n",
       "      <th>RestingBP</th>\n",
       "      <th>Cholesterol</th>\n",
       "      <th>FastingBS</th>\n",
       "      <th>RestingECG</th>\n",
       "      <th>MaxHR</th>\n",
       "      <th>ExerciseAngina</th>\n",
       "      <th>Oldpeak</th>\n",
       "      <th>ST_Slope</th>\n",
       "      <th>HeartDisease</th>\n",
       "    </tr>\n",
       "  </thead>\n",
       "  <tbody>\n",
       "    <tr>\n",
       "      <th>0</th>\n",
       "      <td>40</td>\n",
       "      <td>1</td>\n",
       "      <td>ATA</td>\n",
       "      <td>140</td>\n",
       "      <td>289</td>\n",
       "      <td>0</td>\n",
       "      <td>Normal</td>\n",
       "      <td>172</td>\n",
       "      <td>0</td>\n",
       "      <td>0.0</td>\n",
       "      <td>Up</td>\n",
       "      <td>0</td>\n",
       "    </tr>\n",
       "    <tr>\n",
       "      <th>1</th>\n",
       "      <td>49</td>\n",
       "      <td>0</td>\n",
       "      <td>NAP</td>\n",
       "      <td>160</td>\n",
       "      <td>180</td>\n",
       "      <td>0</td>\n",
       "      <td>Normal</td>\n",
       "      <td>156</td>\n",
       "      <td>0</td>\n",
       "      <td>1.0</td>\n",
       "      <td>Flat</td>\n",
       "      <td>1</td>\n",
       "    </tr>\n",
       "    <tr>\n",
       "      <th>2</th>\n",
       "      <td>37</td>\n",
       "      <td>1</td>\n",
       "      <td>ATA</td>\n",
       "      <td>130</td>\n",
       "      <td>283</td>\n",
       "      <td>0</td>\n",
       "      <td>ST</td>\n",
       "      <td>98</td>\n",
       "      <td>0</td>\n",
       "      <td>0.0</td>\n",
       "      <td>Up</td>\n",
       "      <td>0</td>\n",
       "    </tr>\n",
       "    <tr>\n",
       "      <th>3</th>\n",
       "      <td>48</td>\n",
       "      <td>0</td>\n",
       "      <td>ASY</td>\n",
       "      <td>138</td>\n",
       "      <td>214</td>\n",
       "      <td>0</td>\n",
       "      <td>Normal</td>\n",
       "      <td>108</td>\n",
       "      <td>1</td>\n",
       "      <td>1.5</td>\n",
       "      <td>Flat</td>\n",
       "      <td>1</td>\n",
       "    </tr>\n",
       "    <tr>\n",
       "      <th>4</th>\n",
       "      <td>54</td>\n",
       "      <td>1</td>\n",
       "      <td>NAP</td>\n",
       "      <td>150</td>\n",
       "      <td>195</td>\n",
       "      <td>0</td>\n",
       "      <td>Normal</td>\n",
       "      <td>122</td>\n",
       "      <td>0</td>\n",
       "      <td>0.0</td>\n",
       "      <td>Up</td>\n",
       "      <td>0</td>\n",
       "    </tr>\n",
       "  </tbody>\n",
       "</table>\n",
       "</div>"
      ],
      "text/plain": [
       "   Age  Sex ChestPainType  RestingBP  Cholesterol  FastingBS RestingECG  \\\n",
       "0   40    1           ATA        140          289          0     Normal   \n",
       "1   49    0           NAP        160          180          0     Normal   \n",
       "2   37    1           ATA        130          283          0         ST   \n",
       "3   48    0           ASY        138          214          0     Normal   \n",
       "4   54    1           NAP        150          195          0     Normal   \n",
       "\n",
       "   MaxHR  ExerciseAngina  Oldpeak ST_Slope  HeartDisease  \n",
       "0    172               0      0.0       Up             0  \n",
       "1    156               0      1.0     Flat             1  \n",
       "2     98               0      0.0       Up             0  \n",
       "3    108               1      1.5     Flat             1  \n",
       "4    122               0      0.0       Up             0  "
      ]
     },
     "execution_count": 31,
     "metadata": {},
     "output_type": "execute_result"
    }
   ],
   "source": [
    "# Check encoding result\n",
    "heart.head()"
   ]
  },
  {
   "cell_type": "code",
   "execution_count": 32,
   "id": "0a04a52b-63c2-47f1-bb70-247409476923",
   "metadata": {
    "tags": []
   },
   "outputs": [
    {
     "name": "stdout",
     "output_type": "stream",
     "text": [
      "<class 'pandas.core.frame.DataFrame'>\n",
      "Int64Index: 917 entries, 0 to 917\n",
      "Data columns (total 12 columns):\n",
      " #   Column          Non-Null Count  Dtype  \n",
      "---  ------          --------------  -----  \n",
      " 0   Age             917 non-null    int64  \n",
      " 1   Sex             917 non-null    int32  \n",
      " 2   ChestPainType   917 non-null    object \n",
      " 3   RestingBP       917 non-null    int64  \n",
      " 4   Cholesterol     917 non-null    int64  \n",
      " 5   FastingBS       917 non-null    int64  \n",
      " 6   RestingECG      917 non-null    object \n",
      " 7   MaxHR           917 non-null    int64  \n",
      " 8   ExerciseAngina  917 non-null    int32  \n",
      " 9   Oldpeak         917 non-null    float64\n",
      " 10  ST_Slope        917 non-null    object \n",
      " 11  HeartDisease    917 non-null    int64  \n",
      "dtypes: float64(1), int32(2), int64(6), object(3)\n",
      "memory usage: 118.3+ KB\n"
     ]
    }
   ],
   "source": [
    "# Confirm encoding result\n",
    "heart.info()"
   ]
  },
  {
   "cell_type": "markdown",
   "id": "c6267108-bcfc-4ed3-ba6b-9fbdb91708bb",
   "metadata": {
    "tags": []
   },
   "source": [
    "The transformation has been done successfully."
   ]
  },
  {
   "cell_type": "code",
   "execution_count": 33,
   "id": "8a4db091-8192-42a1-8091-cf49acdabf01",
   "metadata": {
    "tags": []
   },
   "outputs": [
    {
     "data": {
      "text/plain": [
       "ASY    496\n",
       "NAP    202\n",
       "ATA    173\n",
       "TA      46\n",
       "Name: ChestPainType, dtype: int64"
      ]
     },
     "execution_count": 33,
     "metadata": {},
     "output_type": "execute_result"
    }
   ],
   "source": [
    "# View possible values and its counts of ChestPainType\n",
    "heart['ChestPainType'].value_counts()"
   ]
  },
  {
   "cell_type": "code",
   "execution_count": 34,
   "id": "af3925de-636b-4318-b1dd-05f8b359bf50",
   "metadata": {
    "tags": []
   },
   "outputs": [
    {
     "data": {
      "text/plain": [
       "Normal    551\n",
       "LVH       188\n",
       "ST        178\n",
       "Name: RestingECG, dtype: int64"
      ]
     },
     "execution_count": 34,
     "metadata": {},
     "output_type": "execute_result"
    }
   ],
   "source": [
    "# View possible values and its counts of RestingECG\n",
    "heart['RestingECG'].value_counts()"
   ]
  },
  {
   "cell_type": "code",
   "execution_count": 35,
   "id": "7d83b33f-74f4-46c0-b51e-780fdfbdc27c",
   "metadata": {
    "tags": []
   },
   "outputs": [
    {
     "data": {
      "text/plain": [
       "Flat    459\n",
       "Up      395\n",
       "Down     63\n",
       "Name: ST_Slope, dtype: int64"
      ]
     },
     "execution_count": 35,
     "metadata": {},
     "output_type": "execute_result"
    }
   ],
   "source": [
    "# View possible values and its counts of ST_Slope\n",
    "heart['ST_Slope'].value_counts()"
   ]
  },
  {
   "cell_type": "markdown",
   "id": "68a0b909-4610-45a1-a3be-1e471020cfcb",
   "metadata": {},
   "source": [
    "It has been confimed that ChestPainType, RestingECG, and ST_Slope has 3 possible values. For categorical variables with more than 2 possible value. One hot encoding will be used. One hot encoding is preferred over Label Encoder as the latter will impose an order to the values which does not exist in real world domain.\n",
    "https://machinelearningmastery.com/one-hot-encoding-for-categorical-data/"
   ]
  },
  {
   "cell_type": "code",
   "execution_count": 36,
   "id": "b31811f7-b020-4f29-b4cd-b5d9215ed66c",
   "metadata": {
    "tags": []
   },
   "outputs": [],
   "source": [
    "# Create Label Binarizer to implement one hot encoding\n",
    "lb = preprocessing.LabelBinarizer()\n",
    "\n",
    "# Encode ChestPainType column with Label Binarizer\n",
    "heart = heart.join(pd.DataFrame(lb.fit_transform(heart[\"ChestPainType\"]),\n",
    "                          columns=lb.classes_, \n",
    "                          index=heart.index))\n",
    "\n",
    "# Encode RestingECG column with Label Binarizer\n",
    "heart = heart.join(pd.DataFrame(lb.fit_transform(heart[\"RestingECG\"]),\n",
    "                          columns=lb.classes_, \n",
    "                          index=heart.index))\n",
    "\n",
    "# Encode STSlope column with Label Binarizer\n",
    "heart = heart.join(pd.DataFrame(lb.fit_transform(heart[\"ST_Slope\"]),\n",
    "                          columns=lb.classes_, \n",
    "                          index=heart.index))"
   ]
  },
  {
   "cell_type": "code",
   "execution_count": 37,
   "id": "56db3b68-a6ec-4b7a-9e92-a6b8f9aea7b4",
   "metadata": {
    "tags": []
   },
   "outputs": [
    {
     "name": "stdout",
     "output_type": "stream",
     "text": [
      "<class 'pandas.core.frame.DataFrame'>\n",
      "Int64Index: 917 entries, 0 to 917\n",
      "Data columns (total 22 columns):\n",
      " #   Column          Non-Null Count  Dtype  \n",
      "---  ------          --------------  -----  \n",
      " 0   Age             917 non-null    int64  \n",
      " 1   Sex             917 non-null    int32  \n",
      " 2   ChestPainType   917 non-null    object \n",
      " 3   RestingBP       917 non-null    int64  \n",
      " 4   Cholesterol     917 non-null    int64  \n",
      " 5   FastingBS       917 non-null    int64  \n",
      " 6   RestingECG      917 non-null    object \n",
      " 7   MaxHR           917 non-null    int64  \n",
      " 8   ExerciseAngina  917 non-null    int32  \n",
      " 9   Oldpeak         917 non-null    float64\n",
      " 10  ST_Slope        917 non-null    object \n",
      " 11  HeartDisease    917 non-null    int64  \n",
      " 12  ASY             917 non-null    int32  \n",
      " 13  ATA             917 non-null    int32  \n",
      " 14  NAP             917 non-null    int32  \n",
      " 15  TA              917 non-null    int32  \n",
      " 16  LVH             917 non-null    int32  \n",
      " 17  Normal          917 non-null    int32  \n",
      " 18  ST              917 non-null    int32  \n",
      " 19  Down            917 non-null    int32  \n",
      " 20  Flat            917 non-null    int32  \n",
      " 21  Up              917 non-null    int32  \n",
      "dtypes: float64(1), int32(12), int64(6), object(3)\n",
      "memory usage: 154.1+ KB\n"
     ]
    }
   ],
   "source": [
    "# Confirm encoding result\n",
    "heart.info()"
   ]
  },
  {
   "cell_type": "markdown",
   "id": "2ab2f902-373f-4c60-804d-6473485857ec",
   "metadata": {},
   "source": [
    "The transformation is successful. The original columns could be dropped."
   ]
  },
  {
   "cell_type": "code",
   "execution_count": 38,
   "id": "8eb2f962-5512-45e0-a79e-7cda490a69d6",
   "metadata": {
    "tags": []
   },
   "outputs": [],
   "source": [
    "# Drop the original columns that has been encode by LabelBinarizer\n",
    "heart = heart.drop(columns=[\"ChestPainType\", \"RestingECG\",\"ST_Slope\"])"
   ]
  },
  {
   "cell_type": "code",
   "execution_count": 39,
   "id": "c8aaa2d1-d531-45ea-ac0b-a671cf906d01",
   "metadata": {
    "tags": []
   },
   "outputs": [
    {
     "name": "stdout",
     "output_type": "stream",
     "text": [
      "<class 'pandas.core.frame.DataFrame'>\n",
      "Int64Index: 917 entries, 0 to 917\n",
      "Data columns (total 19 columns):\n",
      " #   Column          Non-Null Count  Dtype  \n",
      "---  ------          --------------  -----  \n",
      " 0   Age             917 non-null    int64  \n",
      " 1   Sex             917 non-null    int32  \n",
      " 2   RestingBP       917 non-null    int64  \n",
      " 3   Cholesterol     917 non-null    int64  \n",
      " 4   FastingBS       917 non-null    int64  \n",
      " 5   MaxHR           917 non-null    int64  \n",
      " 6   ExerciseAngina  917 non-null    int32  \n",
      " 7   Oldpeak         917 non-null    float64\n",
      " 8   HeartDisease    917 non-null    int64  \n",
      " 9   ASY             917 non-null    int32  \n",
      " 10  ATA             917 non-null    int32  \n",
      " 11  NAP             917 non-null    int32  \n",
      " 12  TA              917 non-null    int32  \n",
      " 13  LVH             917 non-null    int32  \n",
      " 14  Normal          917 non-null    int32  \n",
      " 15  ST              917 non-null    int32  \n",
      " 16  Down            917 non-null    int32  \n",
      " 17  Flat            917 non-null    int32  \n",
      " 18  Up              917 non-null    int32  \n",
      "dtypes: float64(1), int32(12), int64(6)\n",
      "memory usage: 132.6 KB\n"
     ]
    }
   ],
   "source": [
    "# Confirm dropping result\n",
    "heart.info()"
   ]
  },
  {
   "cell_type": "markdown",
   "id": "9f4d501f-ad8e-44d1-b569-ae5f25964a1b",
   "metadata": {},
   "source": [
    "All the columns now could be accepted by the model"
   ]
  },
  {
   "cell_type": "markdown",
   "id": "3ef1cdc4-b499-44b1-a08b-fd6d5702e118",
   "metadata": {},
   "source": [
    "Some of the columns created by One Hot Encoding need to be dropped. For each group of columns created with same feature, one of them should be dropped. This is because they carry redundant information.\n",
    "For example, if the observation has 0 on ATA, NAP and TA. It signify it must have a 1 in ASY.\n",
    "https://www.geeksforgeeks.org/ml-dummy-variable-trap-in-regression-models/"
   ]
  },
  {
   "cell_type": "code",
   "execution_count": 40,
   "id": "9cc2bde4-6eaf-4718-9d86-045f847a24ef",
   "metadata": {
    "tags": []
   },
   "outputs": [],
   "source": [
    "# Drop the columns with redundant information\n",
    "# ASY ATA NAP TA - one of them should be dropped\n",
    "# LVH Normal ST - one of them should be dropped\n",
    "# Down Flat Up - one of them should be dropped\n",
    "\n",
    "heart = heart.drop(columns=[\"ASY\",\"ST\",\"Down\"])"
   ]
  },
  {
   "cell_type": "markdown",
   "id": "a8b6b6d2-c5ed-401a-bed5-ffb2311e6a3c",
   "metadata": {
    "jp-MarkdownHeadingCollapsed": true,
    "tags": []
   },
   "source": [
    "## 2.2 Train Test Split"
   ]
  },
  {
   "cell_type": "code",
   "execution_count": 41,
   "id": "a3050826-22c1-464f-9879-4e41e1ddb5f1",
   "metadata": {
    "tags": []
   },
   "outputs": [],
   "source": [
    "# Split the predictors and target variable\n",
    "heart_X = heart.iloc[:, heart.columns != \"HeartDisease\"]\n",
    "heart_y = heart[\"HeartDisease\"]"
   ]
  },
  {
   "cell_type": "markdown",
   "id": "86b195f9-9dc8-4df6-9806-2eddc338e1e9",
   "metadata": {
    "tags": []
   },
   "source": [
    "The dataframe is splitted into X (independent variable) and y (target variable)"
   ]
  },
  {
   "cell_type": "code",
   "execution_count": 42,
   "id": "0cfae22d-ddbc-4d5e-80cb-acd340414267",
   "metadata": {
    "tags": []
   },
   "outputs": [],
   "source": [
    "# Perform 70 : 30 train test split\n",
    "heart_X_train, heart_X_test, heart_y_train, heart_y_test = train_test_split(\n",
    "    heart_X, heart_y, test_size=0.30, random_state=123)"
   ]
  },
  {
   "cell_type": "code",
   "execution_count": 43,
   "id": "3cb927a2-61d2-4d83-9faf-f713d8bb3175",
   "metadata": {
    "tags": []
   },
   "outputs": [
    {
     "data": {
      "text/plain": [
       "(641, 15)"
      ]
     },
     "execution_count": 43,
     "metadata": {},
     "output_type": "execute_result"
    }
   ],
   "source": [
    "# View dimensions of traing data X\n",
    "heart_X_train.shape"
   ]
  },
  {
   "cell_type": "markdown",
   "id": "f32f9e93-19da-484a-974e-ea9e3986d5ef",
   "metadata": {},
   "source": [
    "The training data has 641 rows"
   ]
  },
  {
   "cell_type": "code",
   "execution_count": 44,
   "id": "e1e63548-8c97-4184-8036-78df172c4935",
   "metadata": {
    "tags": []
   },
   "outputs": [
    {
     "data": {
      "text/plain": [
       "(276, 15)"
      ]
     },
     "execution_count": 44,
     "metadata": {},
     "output_type": "execute_result"
    }
   ],
   "source": [
    "# View dimensions of testing data X\n",
    "heart_X_test.shape"
   ]
  },
  {
   "cell_type": "markdown",
   "id": "9e2a2bed-55ce-4e55-8427-911995922fc4",
   "metadata": {
    "tags": []
   },
   "source": [
    "The testing data has 276 rows"
   ]
  },
  {
   "cell_type": "markdown",
   "id": "71edf93a-15b6-4fbc-a155-c8cb437c5527",
   "metadata": {},
   "source": [
    "# 3. Modelling"
   ]
  },
  {
   "cell_type": "markdown",
   "id": "1ee8ddfc-608c-43f8-b94c-13ded3accc51",
   "metadata": {
    "jp-MarkdownHeadingCollapsed": true,
    "tags": []
   },
   "source": [
    "## 3.1 Random Forest"
   ]
  },
  {
   "cell_type": "code",
   "execution_count": 45,
   "id": "702d83ba-1e1a-4148-8fc5-70921a8cb783",
   "metadata": {
    "tags": []
   },
   "outputs": [],
   "source": [
    "# using cross validation to find the optimal hyperparameter\n",
    "scores = []\n",
    "hyperparams = []\n",
    "\n",
    "for n_estimator in [500,1000,2000]:\n",
    "    for max_depth in [3,5,7]:\n",
    "        for max_features in [2,3,4]:\n",
    "            rf_clf = RandomForestClassifier(n_estimators=n_estimator, max_depth=max_depth, \n",
    "                                            random_state=0, max_features = max_features)\n",
    "            cv_scores = cross_val_score(rf_clf, heart_X_train, heart_y_train, cv=5)\n",
    "            scores.append(cv_scores.mean())\n",
    "            hyperparams.append((n_estimator,max_depth,max_features))"
   ]
  },
  {
   "cell_type": "code",
   "execution_count": 46,
   "id": "f8de559d-6795-42d2-81f2-03cbd02d2ab8",
   "metadata": {
    "tags": []
   },
   "outputs": [
    {
     "name": "stdout",
     "output_type": "stream",
     "text": [
      "Optimal n_estimator : 500\n",
      "Optimal max_depth : 7\n",
      "Optimal max_features : 2\n"
     ]
    }
   ],
   "source": [
    "# Show the best hyperparameter\n",
    "best_hyperparam = hyperparams[np.argmax(scores)]\n",
    "print(\"Optimal n_estimator : \" + str(best_hyperparam[0]))\n",
    "print(\"Optimal max_depth : \" + str(best_hyperparam[1]))\n",
    "print(\"Optimal max_features : \" + str(best_hyperparam[2]))"
   ]
  },
  {
   "cell_type": "code",
   "execution_count": 47,
   "id": "52a3b17f-45c7-475a-ad69-00ba4a0b3c82",
   "metadata": {
    "tags": []
   },
   "outputs": [
    {
     "data": {
      "text/html": [
       "<style>#sk-container-id-1 {color: black;background-color: white;}#sk-container-id-1 pre{padding: 0;}#sk-container-id-1 div.sk-toggleable {background-color: white;}#sk-container-id-1 label.sk-toggleable__label {cursor: pointer;display: block;width: 100%;margin-bottom: 0;padding: 0.3em;box-sizing: border-box;text-align: center;}#sk-container-id-1 label.sk-toggleable__label-arrow:before {content: \"▸\";float: left;margin-right: 0.25em;color: #696969;}#sk-container-id-1 label.sk-toggleable__label-arrow:hover:before {color: black;}#sk-container-id-1 div.sk-estimator:hover label.sk-toggleable__label-arrow:before {color: black;}#sk-container-id-1 div.sk-toggleable__content {max-height: 0;max-width: 0;overflow: hidden;text-align: left;background-color: #f0f8ff;}#sk-container-id-1 div.sk-toggleable__content pre {margin: 0.2em;color: black;border-radius: 0.25em;background-color: #f0f8ff;}#sk-container-id-1 input.sk-toggleable__control:checked~div.sk-toggleable__content {max-height: 200px;max-width: 100%;overflow: auto;}#sk-container-id-1 input.sk-toggleable__control:checked~label.sk-toggleable__label-arrow:before {content: \"▾\";}#sk-container-id-1 div.sk-estimator input.sk-toggleable__control:checked~label.sk-toggleable__label {background-color: #d4ebff;}#sk-container-id-1 div.sk-label input.sk-toggleable__control:checked~label.sk-toggleable__label {background-color: #d4ebff;}#sk-container-id-1 input.sk-hidden--visually {border: 0;clip: rect(1px 1px 1px 1px);clip: rect(1px, 1px, 1px, 1px);height: 1px;margin: -1px;overflow: hidden;padding: 0;position: absolute;width: 1px;}#sk-container-id-1 div.sk-estimator {font-family: monospace;background-color: #f0f8ff;border: 1px dotted black;border-radius: 0.25em;box-sizing: border-box;margin-bottom: 0.5em;}#sk-container-id-1 div.sk-estimator:hover {background-color: #d4ebff;}#sk-container-id-1 div.sk-parallel-item::after {content: \"\";width: 100%;border-bottom: 1px solid gray;flex-grow: 1;}#sk-container-id-1 div.sk-label:hover label.sk-toggleable__label {background-color: #d4ebff;}#sk-container-id-1 div.sk-serial::before {content: \"\";position: absolute;border-left: 1px solid gray;box-sizing: border-box;top: 0;bottom: 0;left: 50%;z-index: 0;}#sk-container-id-1 div.sk-serial {display: flex;flex-direction: column;align-items: center;background-color: white;padding-right: 0.2em;padding-left: 0.2em;position: relative;}#sk-container-id-1 div.sk-item {position: relative;z-index: 1;}#sk-container-id-1 div.sk-parallel {display: flex;align-items: stretch;justify-content: center;background-color: white;position: relative;}#sk-container-id-1 div.sk-item::before, #sk-container-id-1 div.sk-parallel-item::before {content: \"\";position: absolute;border-left: 1px solid gray;box-sizing: border-box;top: 0;bottom: 0;left: 50%;z-index: -1;}#sk-container-id-1 div.sk-parallel-item {display: flex;flex-direction: column;z-index: 1;position: relative;background-color: white;}#sk-container-id-1 div.sk-parallel-item:first-child::after {align-self: flex-end;width: 50%;}#sk-container-id-1 div.sk-parallel-item:last-child::after {align-self: flex-start;width: 50%;}#sk-container-id-1 div.sk-parallel-item:only-child::after {width: 0;}#sk-container-id-1 div.sk-dashed-wrapped {border: 1px dashed gray;margin: 0 0.4em 0.5em 0.4em;box-sizing: border-box;padding-bottom: 0.4em;background-color: white;}#sk-container-id-1 div.sk-label label {font-family: monospace;font-weight: bold;display: inline-block;line-height: 1.2em;}#sk-container-id-1 div.sk-label-container {text-align: center;}#sk-container-id-1 div.sk-container {/* jupyter's `normalize.less` sets `[hidden] { display: none; }` but bootstrap.min.css set `[hidden] { display: none !important; }` so we also need the `!important` here to be able to override the default hidden behavior on the sphinx rendered scikit-learn.org. See: https://github.com/scikit-learn/scikit-learn/issues/21755 */display: inline-block !important;position: relative;}#sk-container-id-1 div.sk-text-repr-fallback {display: none;}</style><div id=\"sk-container-id-1\" class=\"sk-top-container\"><div class=\"sk-text-repr-fallback\"><pre>RandomForestClassifier(max_depth=7, max_features=2, n_estimators=500,\n",
       "                       random_state=0)</pre><b>In a Jupyter environment, please rerun this cell to show the HTML representation or trust the notebook. <br />On GitHub, the HTML representation is unable to render, please try loading this page with nbviewer.org.</b></div><div class=\"sk-container\" hidden><div class=\"sk-item\"><div class=\"sk-estimator sk-toggleable\"><input class=\"sk-toggleable__control sk-hidden--visually\" id=\"sk-estimator-id-1\" type=\"checkbox\" checked><label for=\"sk-estimator-id-1\" class=\"sk-toggleable__label sk-toggleable__label-arrow\">RandomForestClassifier</label><div class=\"sk-toggleable__content\"><pre>RandomForestClassifier(max_depth=7, max_features=2, n_estimators=500,\n",
       "                       random_state=0)</pre></div></div></div></div></div>"
      ],
      "text/plain": [
       "RandomForestClassifier(max_depth=7, max_features=2, n_estimators=500,\n",
       "                       random_state=0)"
      ]
     },
     "execution_count": 47,
     "metadata": {},
     "output_type": "execute_result"
    }
   ],
   "source": [
    "# Creating Random Forest Model\n",
    "rf_clf = RandomForestClassifier(n_estimators=500, max_depth=7, random_state=0, max_features = 2)\n",
    "\n",
    "# Fitting the model to training data\n",
    "rf_clf.fit(heart_X_train, heart_y_train)"
   ]
  },
  {
   "cell_type": "markdown",
   "id": "d48706c5-ccaa-4971-9133-83ef80a35179",
   "metadata": {
    "jp-MarkdownHeadingCollapsed": true,
    "tags": []
   },
   "source": [
    "## 3.2 Support Vector Machine (SVM)"
   ]
  },
  {
   "cell_type": "code",
   "execution_count": 48,
   "id": "409102d6-f005-4106-9bae-abebc3b68521",
   "metadata": {
    "tags": []
   },
   "outputs": [],
   "source": [
    "# using cross validation to find the optimal hyperparameter\n",
    "scores = []\n",
    "hyperparams = []\n",
    "\n",
    "for C in [100,200,500,1000]:\n",
    "    svm_clf = SVC(C= C)\n",
    "    cv_scores = cross_val_score(svm_clf, heart_X_train, heart_y_train, cv=5)\n",
    "    scores.append(cv_scores.mean())\n",
    "    hyperparams.append((C))"
   ]
  },
  {
   "cell_type": "code",
   "execution_count": 49,
   "id": "ea53a303-5c6b-4319-8d91-ec882a99f66b",
   "metadata": {
    "tags": []
   },
   "outputs": [
    {
     "name": "stdout",
     "output_type": "stream",
     "text": [
      "Optimal C : 1000\n"
     ]
    }
   ],
   "source": [
    "# Show the best hyperparameter\n",
    "best_hyperparam = hyperparams[np.argmax(scores)]\n",
    "print(\"Optimal C : \" + str(best_hyperparam))"
   ]
  },
  {
   "cell_type": "code",
   "execution_count": 50,
   "id": "aae361c6-1b98-4063-9d6e-291abbaae000",
   "metadata": {
    "tags": []
   },
   "outputs": [
    {
     "data": {
      "text/html": [
       "<style>#sk-container-id-2 {color: black;background-color: white;}#sk-container-id-2 pre{padding: 0;}#sk-container-id-2 div.sk-toggleable {background-color: white;}#sk-container-id-2 label.sk-toggleable__label {cursor: pointer;display: block;width: 100%;margin-bottom: 0;padding: 0.3em;box-sizing: border-box;text-align: center;}#sk-container-id-2 label.sk-toggleable__label-arrow:before {content: \"▸\";float: left;margin-right: 0.25em;color: #696969;}#sk-container-id-2 label.sk-toggleable__label-arrow:hover:before {color: black;}#sk-container-id-2 div.sk-estimator:hover label.sk-toggleable__label-arrow:before {color: black;}#sk-container-id-2 div.sk-toggleable__content {max-height: 0;max-width: 0;overflow: hidden;text-align: left;background-color: #f0f8ff;}#sk-container-id-2 div.sk-toggleable__content pre {margin: 0.2em;color: black;border-radius: 0.25em;background-color: #f0f8ff;}#sk-container-id-2 input.sk-toggleable__control:checked~div.sk-toggleable__content {max-height: 200px;max-width: 100%;overflow: auto;}#sk-container-id-2 input.sk-toggleable__control:checked~label.sk-toggleable__label-arrow:before {content: \"▾\";}#sk-container-id-2 div.sk-estimator input.sk-toggleable__control:checked~label.sk-toggleable__label {background-color: #d4ebff;}#sk-container-id-2 div.sk-label input.sk-toggleable__control:checked~label.sk-toggleable__label {background-color: #d4ebff;}#sk-container-id-2 input.sk-hidden--visually {border: 0;clip: rect(1px 1px 1px 1px);clip: rect(1px, 1px, 1px, 1px);height: 1px;margin: -1px;overflow: hidden;padding: 0;position: absolute;width: 1px;}#sk-container-id-2 div.sk-estimator {font-family: monospace;background-color: #f0f8ff;border: 1px dotted black;border-radius: 0.25em;box-sizing: border-box;margin-bottom: 0.5em;}#sk-container-id-2 div.sk-estimator:hover {background-color: #d4ebff;}#sk-container-id-2 div.sk-parallel-item::after {content: \"\";width: 100%;border-bottom: 1px solid gray;flex-grow: 1;}#sk-container-id-2 div.sk-label:hover label.sk-toggleable__label {background-color: #d4ebff;}#sk-container-id-2 div.sk-serial::before {content: \"\";position: absolute;border-left: 1px solid gray;box-sizing: border-box;top: 0;bottom: 0;left: 50%;z-index: 0;}#sk-container-id-2 div.sk-serial {display: flex;flex-direction: column;align-items: center;background-color: white;padding-right: 0.2em;padding-left: 0.2em;position: relative;}#sk-container-id-2 div.sk-item {position: relative;z-index: 1;}#sk-container-id-2 div.sk-parallel {display: flex;align-items: stretch;justify-content: center;background-color: white;position: relative;}#sk-container-id-2 div.sk-item::before, #sk-container-id-2 div.sk-parallel-item::before {content: \"\";position: absolute;border-left: 1px solid gray;box-sizing: border-box;top: 0;bottom: 0;left: 50%;z-index: -1;}#sk-container-id-2 div.sk-parallel-item {display: flex;flex-direction: column;z-index: 1;position: relative;background-color: white;}#sk-container-id-2 div.sk-parallel-item:first-child::after {align-self: flex-end;width: 50%;}#sk-container-id-2 div.sk-parallel-item:last-child::after {align-self: flex-start;width: 50%;}#sk-container-id-2 div.sk-parallel-item:only-child::after {width: 0;}#sk-container-id-2 div.sk-dashed-wrapped {border: 1px dashed gray;margin: 0 0.4em 0.5em 0.4em;box-sizing: border-box;padding-bottom: 0.4em;background-color: white;}#sk-container-id-2 div.sk-label label {font-family: monospace;font-weight: bold;display: inline-block;line-height: 1.2em;}#sk-container-id-2 div.sk-label-container {text-align: center;}#sk-container-id-2 div.sk-container {/* jupyter's `normalize.less` sets `[hidden] { display: none; }` but bootstrap.min.css set `[hidden] { display: none !important; }` so we also need the `!important` here to be able to override the default hidden behavior on the sphinx rendered scikit-learn.org. See: https://github.com/scikit-learn/scikit-learn/issues/21755 */display: inline-block !important;position: relative;}#sk-container-id-2 div.sk-text-repr-fallback {display: none;}</style><div id=\"sk-container-id-2\" class=\"sk-top-container\"><div class=\"sk-text-repr-fallback\"><pre>SVC(C=1000)</pre><b>In a Jupyter environment, please rerun this cell to show the HTML representation or trust the notebook. <br />On GitHub, the HTML representation is unable to render, please try loading this page with nbviewer.org.</b></div><div class=\"sk-container\" hidden><div class=\"sk-item\"><div class=\"sk-estimator sk-toggleable\"><input class=\"sk-toggleable__control sk-hidden--visually\" id=\"sk-estimator-id-2\" type=\"checkbox\" checked><label for=\"sk-estimator-id-2\" class=\"sk-toggleable__label sk-toggleable__label-arrow\">SVC</label><div class=\"sk-toggleable__content\"><pre>SVC(C=1000)</pre></div></div></div></div></div>"
      ],
      "text/plain": [
       "SVC(C=1000)"
      ]
     },
     "execution_count": 50,
     "metadata": {},
     "output_type": "execute_result"
    }
   ],
   "source": [
    "# Creating SVM model\n",
    "svm_clf = SVC(C= 1000)\n",
    "\n",
    "# Fitting the model to training data\n",
    "svm_clf.fit(heart_X_train, heart_y_train)"
   ]
  },
  {
   "cell_type": "markdown",
   "id": "3b5a954a-f9c4-47b9-8395-c61d63353a58",
   "metadata": {
    "jp-MarkdownHeadingCollapsed": true,
    "tags": []
   },
   "source": [
    "## 3.3 Logistic Regression"
   ]
  },
  {
   "cell_type": "code",
   "execution_count": 51,
   "id": "95757854-8f59-4299-9e32-53788fc45950",
   "metadata": {
    "tags": []
   },
   "outputs": [],
   "source": [
    "# using cross validation to find the optimal hyperparameter\n",
    "scores = []\n",
    "hyperparams = []\n",
    "\n",
    "for C in [1,5,50,100]:\n",
    "    for solver in ['lbfgs', 'liblinear', 'newton-cholesky']:\n",
    "        lr_clf = LogisticRegression(C = C, random_state=0, solver=solver, max_iter = 5000)\n",
    "        cv_scores = cross_val_score(lr_clf, heart_X_train, heart_y_train, cv=5)\n",
    "        scores.append(cv_scores.mean())\n",
    "        hyperparams.append((C, solver))"
   ]
  },
  {
   "cell_type": "code",
   "execution_count": 52,
   "id": "45b6c7d8-0d39-4d3e-9080-aeece63ac843",
   "metadata": {
    "tags": []
   },
   "outputs": [
    {
     "name": "stdout",
     "output_type": "stream",
     "text": [
      "Optimal C : 1\n",
      "Optimal solver : newton-cholesky\n"
     ]
    }
   ],
   "source": [
    "# Show the best hyperparameter\n",
    "best_hyperparam = hyperparams[np.argmax(scores)]\n",
    "print(\"Optimal C : \" + str(best_hyperparam[0]))\n",
    "print(\"Optimal solver : \" + str(best_hyperparam[1]))"
   ]
  },
  {
   "cell_type": "code",
   "execution_count": 53,
   "id": "91a11da1-740b-4b88-8d4c-a9f982b7bf67",
   "metadata": {
    "tags": []
   },
   "outputs": [
    {
     "data": {
      "text/html": [
       "<style>#sk-container-id-3 {color: black;background-color: white;}#sk-container-id-3 pre{padding: 0;}#sk-container-id-3 div.sk-toggleable {background-color: white;}#sk-container-id-3 label.sk-toggleable__label {cursor: pointer;display: block;width: 100%;margin-bottom: 0;padding: 0.3em;box-sizing: border-box;text-align: center;}#sk-container-id-3 label.sk-toggleable__label-arrow:before {content: \"▸\";float: left;margin-right: 0.25em;color: #696969;}#sk-container-id-3 label.sk-toggleable__label-arrow:hover:before {color: black;}#sk-container-id-3 div.sk-estimator:hover label.sk-toggleable__label-arrow:before {color: black;}#sk-container-id-3 div.sk-toggleable__content {max-height: 0;max-width: 0;overflow: hidden;text-align: left;background-color: #f0f8ff;}#sk-container-id-3 div.sk-toggleable__content pre {margin: 0.2em;color: black;border-radius: 0.25em;background-color: #f0f8ff;}#sk-container-id-3 input.sk-toggleable__control:checked~div.sk-toggleable__content {max-height: 200px;max-width: 100%;overflow: auto;}#sk-container-id-3 input.sk-toggleable__control:checked~label.sk-toggleable__label-arrow:before {content: \"▾\";}#sk-container-id-3 div.sk-estimator input.sk-toggleable__control:checked~label.sk-toggleable__label {background-color: #d4ebff;}#sk-container-id-3 div.sk-label input.sk-toggleable__control:checked~label.sk-toggleable__label {background-color: #d4ebff;}#sk-container-id-3 input.sk-hidden--visually {border: 0;clip: rect(1px 1px 1px 1px);clip: rect(1px, 1px, 1px, 1px);height: 1px;margin: -1px;overflow: hidden;padding: 0;position: absolute;width: 1px;}#sk-container-id-3 div.sk-estimator {font-family: monospace;background-color: #f0f8ff;border: 1px dotted black;border-radius: 0.25em;box-sizing: border-box;margin-bottom: 0.5em;}#sk-container-id-3 div.sk-estimator:hover {background-color: #d4ebff;}#sk-container-id-3 div.sk-parallel-item::after {content: \"\";width: 100%;border-bottom: 1px solid gray;flex-grow: 1;}#sk-container-id-3 div.sk-label:hover label.sk-toggleable__label {background-color: #d4ebff;}#sk-container-id-3 div.sk-serial::before {content: \"\";position: absolute;border-left: 1px solid gray;box-sizing: border-box;top: 0;bottom: 0;left: 50%;z-index: 0;}#sk-container-id-3 div.sk-serial {display: flex;flex-direction: column;align-items: center;background-color: white;padding-right: 0.2em;padding-left: 0.2em;position: relative;}#sk-container-id-3 div.sk-item {position: relative;z-index: 1;}#sk-container-id-3 div.sk-parallel {display: flex;align-items: stretch;justify-content: center;background-color: white;position: relative;}#sk-container-id-3 div.sk-item::before, #sk-container-id-3 div.sk-parallel-item::before {content: \"\";position: absolute;border-left: 1px solid gray;box-sizing: border-box;top: 0;bottom: 0;left: 50%;z-index: -1;}#sk-container-id-3 div.sk-parallel-item {display: flex;flex-direction: column;z-index: 1;position: relative;background-color: white;}#sk-container-id-3 div.sk-parallel-item:first-child::after {align-self: flex-end;width: 50%;}#sk-container-id-3 div.sk-parallel-item:last-child::after {align-self: flex-start;width: 50%;}#sk-container-id-3 div.sk-parallel-item:only-child::after {width: 0;}#sk-container-id-3 div.sk-dashed-wrapped {border: 1px dashed gray;margin: 0 0.4em 0.5em 0.4em;box-sizing: border-box;padding-bottom: 0.4em;background-color: white;}#sk-container-id-3 div.sk-label label {font-family: monospace;font-weight: bold;display: inline-block;line-height: 1.2em;}#sk-container-id-3 div.sk-label-container {text-align: center;}#sk-container-id-3 div.sk-container {/* jupyter's `normalize.less` sets `[hidden] { display: none; }` but bootstrap.min.css set `[hidden] { display: none !important; }` so we also need the `!important` here to be able to override the default hidden behavior on the sphinx rendered scikit-learn.org. See: https://github.com/scikit-learn/scikit-learn/issues/21755 */display: inline-block !important;position: relative;}#sk-container-id-3 div.sk-text-repr-fallback {display: none;}</style><div id=\"sk-container-id-3\" class=\"sk-top-container\"><div class=\"sk-text-repr-fallback\"><pre>LogisticRegression(C=1, random_state=0, solver=&#x27;newton-cholesky&#x27;)</pre><b>In a Jupyter environment, please rerun this cell to show the HTML representation or trust the notebook. <br />On GitHub, the HTML representation is unable to render, please try loading this page with nbviewer.org.</b></div><div class=\"sk-container\" hidden><div class=\"sk-item\"><div class=\"sk-estimator sk-toggleable\"><input class=\"sk-toggleable__control sk-hidden--visually\" id=\"sk-estimator-id-3\" type=\"checkbox\" checked><label for=\"sk-estimator-id-3\" class=\"sk-toggleable__label sk-toggleable__label-arrow\">LogisticRegression</label><div class=\"sk-toggleable__content\"><pre>LogisticRegression(C=1, random_state=0, solver=&#x27;newton-cholesky&#x27;)</pre></div></div></div></div></div>"
      ],
      "text/plain": [
       "LogisticRegression(C=1, random_state=0, solver='newton-cholesky')"
      ]
     },
     "execution_count": 53,
     "metadata": {},
     "output_type": "execute_result"
    }
   ],
   "source": [
    "# Creating Logistic Regression model\n",
    "lr_clf = LogisticRegression(random_state=0, solver=\"newton-cholesky\", C = 1)\n",
    "\n",
    "# Fitting the model to training data\n",
    "lr_clf.fit(heart_X_train, heart_y_train)"
   ]
  },
  {
   "cell_type": "markdown",
   "id": "114c348a-d10a-4384-aa56-77dbec35c675",
   "metadata": {},
   "source": [
    "# 4.0 Evaluation"
   ]
  },
  {
   "cell_type": "markdown",
   "id": "0346efdd-0acf-4ae3-8a69-edad8a27f6c6",
   "metadata": {
    "jp-MarkdownHeadingCollapsed": true,
    "tags": []
   },
   "source": [
    "## 4.1 Prediction"
   ]
  },
  {
   "cell_type": "code",
   "execution_count": 54,
   "id": "327d31e9-6006-4cfb-9163-e8d6f7f109df",
   "metadata": {
    "tags": []
   },
   "outputs": [],
   "source": [
    "# Obtain the predictions of the models\n",
    "rf_pred_y = rf_clf.predict(heart_X_test)\n",
    "svm_pred_y = svm_clf.predict(heart_X_test)\n",
    "lr_pred_y = lr_clf.predict(heart_X_test)"
   ]
  },
  {
   "cell_type": "markdown",
   "id": "e9c8dfbf-2d40-4c11-9732-1c49e53589b7",
   "metadata": {
    "tags": []
   },
   "source": [
    "The predictions of the models are stored in the variables"
   ]
  },
  {
   "cell_type": "code",
   "execution_count": 55,
   "id": "a7e2285a-03de-405f-8ec2-f5c0d604199b",
   "metadata": {
    "tags": []
   },
   "outputs": [
    {
     "data": {
      "text/plain": [
       "Text(0.5, 1.0, 'Barchart of the predicted value per true label (Random Forest)')"
      ]
     },
     "execution_count": 55,
     "metadata": {},
     "output_type": "execute_result"
    },
    {
     "data": {
      "image/png": "[encoded data removed]",
      "text/plain": [
       "<Figure size 432x288 with 1 Axes>"
      ]
     },
     "metadata": {
      "needs_background": "light"
     },
     "output_type": "display_data"
    }
   ],
   "source": [
    "# Creating barchart that shows number of records per true label and prediction\n",
    "df = pd.DataFrame({\"Predicted\" : rf_pred_y,\"True\" : heart_y_test})\n",
    "ax = sns.countplot(x=\"True\", hue=\"Predicted\", data=df)\n",
    "plt.title('Barchart of the predicted value per true label (Random Forest)')"
   ]
  },
  {
   "cell_type": "code",
   "execution_count": 56,
   "id": "228aa189-05ac-4020-99b5-b78ed818ab53",
   "metadata": {
    "tags": []
   },
   "outputs": [
    {
     "data": {
      "text/plain": [
       "Text(0.5, 1.0, 'Barchart of the predicted value per true label (SVM)')"
      ]
     },
     "execution_count": 56,
     "metadata": {},
     "output_type": "execute_result"
    },
    {
     "data": {
      "image/png": "[encoded data removed]",
      "text/plain": [
       "<Figure size 432x288 with 1 Axes>"
      ]
     },
     "metadata": {
      "needs_background": "light"
     },
     "output_type": "display_data"
    }
   ],
   "source": [
    "# Creating barchart that shows number of records per true label and prediction\n",
    "df = pd.DataFrame({\"Predicted\" : svm_pred_y,\"True\" : heart_y_test})\n",
    "ax = sns.countplot(x=\"True\", hue=\"Predicted\", data=df)\n",
    "plt.title('Barchart of the predicted value per true label (SVM)')"
   ]
  },
  {
   "cell_type": "code",
   "execution_count": 57,
   "id": "81e4a71d-eeed-4a5c-b5e6-6544772a2e82",
   "metadata": {
    "tags": []
   },
   "outputs": [
    {
     "data": {
      "text/plain": [
       "Text(0.5, 1.0, 'Barchart of the predicted value per true label (Logistic Regression)')"
      ]
     },
     "execution_count": 57,
     "metadata": {},
     "output_type": "execute_result"
    },
    {
     "data": {
      "image/png": "[encoded data removed]",
      "text/plain": [
       "<Figure size 432x288 with 1 Axes>"
      ]
     },
     "metadata": {
      "needs_background": "light"
     },
     "output_type": "display_data"
    }
   ],
   "source": [
    "# Creating barchart that shows number of records per true label and prediction\n",
    "df = pd.DataFrame({\"Predicted\" : lr_pred_y,\"True\" : heart_y_test})\n",
    "ax = sns.countplot(x=\"True\", hue=\"Predicted\", data=df)\n",
    "plt.title('Barchart of the predicted value per true label (Logistic Regression)')"
   ]
  },
  {
   "cell_type": "markdown",
   "id": "23870f1f-bf67-4242-9994-a942e43c74d3",
   "metadata": {
    "jp-MarkdownHeadingCollapsed": true,
    "tags": []
   },
   "source": [
    "## 4.2 Accuracy"
   ]
  },
  {
   "cell_type": "code",
   "execution_count": 58,
   "id": "e359930c-bf6c-4afe-9fc5-eccfa4ac7918",
   "metadata": {
    "tags": []
   },
   "outputs": [],
   "source": [
    "# Compute the accuracy score of 3 models\n",
    "rf_acc = accuracy_score(heart_y_test, rf_pred_y)\n",
    "svm_acc = accuracy_score(heart_y_test, svm_pred_y)\n",
    "lr_acc = accuracy_score(heart_y_test, lr_pred_y)"
   ]
  },
  {
   "cell_type": "code",
   "execution_count": 59,
   "id": "34ed4173-2614-4b17-b09e-e54803648f04",
   "metadata": {
    "tags": []
   },
   "outputs": [
    {
     "name": "stdout",
     "output_type": "stream",
     "text": [
      "The accuracy for Random Forest : 0.87\n",
      "The accuracy for Support Vector Machine : 0.83\n",
      "The accuracy for Logistic Regression : 0.87\n"
     ]
    }
   ],
   "source": [
    "# Shows the accuracy for the 3 algorithms rounded off to 2 decimal place\n",
    "print(\"The accuracy for Random Forest : \" + str(round(rf_acc, 2)))\n",
    "print(\"The accuracy for Support Vector Machine : \" + str(round(svm_acc, 2)))\n",
    "print(\"The accuracy for Logistic Regression : \" + str(round(lr_acc, 2)))"
   ]
  },
  {
   "cell_type": "markdown",
   "id": "b9e0ad82-cbc9-4d61-be8d-73ffa544bab5",
   "metadata": {
    "tags": []
   },
   "source": [
    "Random Forest algorithm and Logistic Regression achieved the best accuracy, followed by Support Vector Machine"
   ]
  },
  {
   "cell_type": "code",
   "execution_count": 60,
   "id": "4861aa77-9f7d-42e2-9d29-e72869038c7a",
   "metadata": {
    "tags": []
   },
   "outputs": [
    {
     "data": {
      "text/plain": [
       "Text(0.5, 1.0, 'Accuracy of Algorithms')"
      ]
     },
     "execution_count": 60,
     "metadata": {},
     "output_type": "execute_result"
    },
    {
     "data": {
      "image/png": "[encoded data removed]",
      "text/plain": [
       "<Figure size 720x360 with 1 Axes>"
      ]
     },
     "metadata": {
      "needs_background": "light"
     },
     "output_type": "display_data"
    }
   ],
   "source": [
    "# Creating bar plot to show the accuracy score\n",
    "algorithms = [\"Random Forest\", \"Support Vector Machine\", \"Logistic Regression\"]\n",
    "plt.figure(figsize=(10,5))\n",
    "bp = sns.barplot(x = algorithms,y = [rf_acc, svm_acc, lr_acc])\n",
    "bp.bar_label(container=bp.containers[0], labels=[round(rf_acc, 2), \n",
    "                                                 round(svm_acc, 2), round(lr_acc, 2)])\n",
    "\n",
    "plt.xlabel(\"Types of Algorithms\")\n",
    "plt.ylabel(\"Accuracy\")\n",
    "plt.title('Accuracy of Algorithms')"
   ]
  },
  {
   "cell_type": "markdown",
   "id": "e9944fec-38f1-402d-85a3-48be4570147d",
   "metadata": {
    "jp-MarkdownHeadingCollapsed": true,
    "tags": []
   },
   "source": [
    "## 4.3 F1-score"
   ]
  },
  {
   "cell_type": "code",
   "execution_count": 61,
   "id": "f1b4de8c-a80a-416b-944a-7e07fb1db536",
   "metadata": {
    "tags": []
   },
   "outputs": [],
   "source": [
    "# Compute the F1 score of 3 models\n",
    "rf_f1 = f1_score(heart_y_test, rf_pred_y)\n",
    "svm_f1 = f1_score(heart_y_test, svm_pred_y)\n",
    "lr_f1 = f1_score(heart_y_test, lr_pred_y)"
   ]
  },
  {
   "cell_type": "code",
   "execution_count": 62,
   "id": "1b43376a-86e8-4047-8207-5d3a95b49b27",
   "metadata": {
    "tags": []
   },
   "outputs": [
    {
     "name": "stdout",
     "output_type": "stream",
     "text": [
      "The F1 Score for Random Forest : 0.89\n",
      "The F1 Score for Support Vector Machine : 0.85\n",
      "The F1 Score for Logistic Regression : 0.88\n"
     ]
    }
   ],
   "source": [
    "# Shows the F1 Score for the 3 algorithms rounded off to 2 decimal place\n",
    "print(\"The F1 Score for Random Forest : \" + str(round(rf_f1, 2)))\n",
    "print(\"The F1 Score for Support Vector Machine : \" + str(round(svm_f1, 2)))\n",
    "print(\"The F1 Score for Logistic Regression : \" + str(round(lr_f1, 2)))"
   ]
  },
  {
   "cell_type": "markdown",
   "id": "62a21454-0682-4681-b68a-f0c3d6bbf33d",
   "metadata": {},
   "source": [
    "Random Forest algorithm achieved the best F1 Score, followed by Logistic Regression and Support Vector Machine"
   ]
  },
  {
   "cell_type": "code",
   "execution_count": 63,
   "id": "da4c017a-3066-4d03-9981-7e17420f5a03",
   "metadata": {
    "tags": []
   },
   "outputs": [
    {
     "data": {
      "text/plain": [
       "Text(0.5, 1.0, 'F1 Score of Algorithms')"
      ]
     },
     "execution_count": 63,
     "metadata": {},
     "output_type": "execute_result"
    },
    {
     "data": {
      "image/png": "[encoded data removed]",
      "text/plain": [
       "<Figure size 720x360 with 1 Axes>"
      ]
     },
     "metadata": {
      "needs_background": "light"
     },
     "output_type": "display_data"
    }
   ],
   "source": [
    "# Creating bar plot to show the F1 score\n",
    "plt.figure(figsize=(10,5))\n",
    "bp = sns.barplot(x = algorithms,y = [rf_f1, svm_f1, lr_f1])\n",
    "bp.bar_label(container=bp.containers[0], labels=[round(rf_f1, 2), \n",
    "                                                 round(svm_f1, 2), round(lr_f1, 2)])\n",
    "\n",
    "plt.xlabel(\"Types of Algorithms\")\n",
    "plt.ylabel(\"F1 Score\")\n",
    "plt.title('F1 Score of Algorithms')"
   ]
  },
  {
   "cell_type": "markdown",
   "id": "f7a5d45a-3beb-4d3f-8d61-bcbfaa693d16",
   "metadata": {
    "jp-MarkdownHeadingCollapsed": true,
    "tags": []
   },
   "source": [
    "## 4.4 Precision"
   ]
  },
  {
   "cell_type": "code",
   "execution_count": 64,
   "id": "4b7ac721-1922-4c74-9c99-12798d1f5665",
   "metadata": {
    "tags": []
   },
   "outputs": [],
   "source": [
    "# Compute the Precision score of 3 models\n",
    "rf_prec = precision_score(heart_y_test, rf_pred_y)\n",
    "svm_prec= precision_score(heart_y_test, svm_pred_y)\n",
    "lr_prec = precision_score(heart_y_test, lr_pred_y)"
   ]
  },
  {
   "cell_type": "code",
   "execution_count": 65,
   "id": "f628b2bc-43e6-4c93-a176-432f92734b3a",
   "metadata": {
    "tags": []
   },
   "outputs": [
    {
     "name": "stdout",
     "output_type": "stream",
     "text": [
      "The Precision Score for Random Forest : 0.85\n",
      "The Precision Score for Support Vector Machine : 0.81\n",
      "The Precision Score for Logistic Regression : 0.85\n"
     ]
    }
   ],
   "source": [
    "# Shows the Precision Score for the 3 algorithms rounded off to 2 decimal place\n",
    "print(\"The Precision Score for Random Forest : \" + str(round(rf_prec, 2)))\n",
    "print(\"The Precision Score for Support Vector Machine : \" + str(round(svm_prec, 2)))\n",
    "print(\"The Precision Score for Logistic Regression : \" + str(round(lr_prec, 2)))"
   ]
  },
  {
   "cell_type": "markdown",
   "id": "66ea7462-7ad4-42d3-a438-4e3e469e3fad",
   "metadata": {
    "tags": []
   },
   "source": [
    "Random Forest and SVM achieved the best Precision Score, followed by Logistic Regression"
   ]
  },
  {
   "cell_type": "code",
   "execution_count": 66,
   "id": "1787efff-5b2e-4f7b-be4e-3630cd014d05",
   "metadata": {
    "tags": []
   },
   "outputs": [
    {
     "data": {
      "text/plain": [
       "Text(0.5, 1.0, 'Precision Score of Algorithms')"
      ]
     },
     "execution_count": 66,
     "metadata": {},
     "output_type": "execute_result"
    },
    {
     "data": {
      "image/png": "[encoded data removed]",
      "text/plain": [
       "<Figure size 720x360 with 1 Axes>"
      ]
     },
     "metadata": {
      "needs_background": "light"
     },
     "output_type": "display_data"
    }
   ],
   "source": [
    "# Creating bar plot to show the Precision score\n",
    "plt.figure(figsize=(10,5))\n",
    "bp = sns.barplot(x = algorithms,y = [rf_prec, svm_prec, lr_prec])\n",
    "bp.bar_label(container=bp.containers[0], labels=[round(rf_prec, 2), \n",
    "                                                 round(svm_prec, 2), round(lr_prec, 2)])\n",
    "\n",
    "plt.xlabel(\"Types of Algorithms\")\n",
    "plt.ylabel(\"Precision Score\")\n",
    "plt.title('Precision Score of Algorithms')"
   ]
  },
  {
   "cell_type": "markdown",
   "id": "d46ab6aa-bc50-4154-a4ed-3a4a62554549",
   "metadata": {
    "jp-MarkdownHeadingCollapsed": true,
    "tags": []
   },
   "source": [
    "## 4.5 Confusion Matrix"
   ]
  },
  {
   "cell_type": "code",
   "execution_count": 67,
   "id": "7ffb0e3a-0432-462d-b0d7-f95af40fb066",
   "metadata": {
    "tags": []
   },
   "outputs": [
    {
     "data": {
      "text/plain": [
       "Text(0.5, 1.0, 'Confusion Matrix of Random Forest Classifier')"
      ]
     },
     "execution_count": 67,
     "metadata": {},
     "output_type": "execute_result"
    },
    {
     "data": {
      "image/png": "[encoded data removed]",
      "text/plain": [
       "<Figure size 432x288 with 2 Axes>"
      ]
     },
     "metadata": {
      "needs_background": "light"
     },
     "output_type": "display_data"
    }
   ],
   "source": [
    "cm = confusion_matrix(heart_y_test, rf_pred_y)\n",
    "ConfusionMatrixDisplay(confusion_matrix = cm, display_labels = rf_clf.classes_).plot()\n",
    "plt.title(\"Confusion Matrix of Random Forest Classifier\")"
   ]
  },
  {
   "cell_type": "code",
   "execution_count": 68,
   "id": "08a787ff-5276-442d-8a53-d26c25c1a7a7",
   "metadata": {
    "tags": []
   },
   "outputs": [
    {
     "data": {
      "text/plain": [
       "Text(0.5, 1.0, 'Confusion Matrix of SVM Classifier')"
      ]
     },
     "execution_count": 68,
     "metadata": {},
     "output_type": "execute_result"
    },
    {
     "data": {
      "image/png": "[encoded data removed]",
      "text/plain": [
       "<Figure size 432x288 with 2 Axes>"
      ]
     },
     "metadata": {
      "needs_background": "light"
     },
     "output_type": "display_data"
    }
   ],
   "source": [
    "cm = confusion_matrix(heart_y_test, svm_pred_y)\n",
    "ConfusionMatrixDisplay(confusion_matrix = cm, display_labels = svm_clf.classes_).plot()\n",
    "plt.title(\"Confusion Matrix of SVM Classifier\")"
   ]
  },
  {
   "cell_type": "code",
   "execution_count": 69,
   "id": "3fe6c71b-6543-4d80-9579-7940c1761b50",
   "metadata": {
    "tags": []
   },
   "outputs": [
    {
     "data": {
      "text/plain": [
       "Text(0.5, 1.0, 'Confusion Matrix of Logistic Regression Classifier')"
      ]
     },
     "execution_count": 69,
     "metadata": {},
     "output_type": "execute_result"
    },
    {
     "data": {
      "image/png": "[encoded data removed]",
      "text/plain": [
       "<Figure size 432x288 with 2 Axes>"
      ]
     },
     "metadata": {
      "needs_background": "light"
     },
     "output_type": "display_data"
    }
   ],
   "source": [
    "cm = confusion_matrix(heart_y_test, lr_pred_y)\n",
    "ConfusionMatrixDisplay(confusion_matrix = cm, display_labels = lr_clf.classes_).plot()\n",
    "plt.title(\"Confusion Matrix of Logistic Regression Classifier\")"
   ]
  },
  {
   "cell_type": "markdown",
   "id": "716320cd-e903-4c50-968e-660b4cfc3d51",
   "metadata": {},
   "source": [
    "From the confusion matrix, we could see SVM perform worst at it has the lowest value on the diagonal. Logistic Regression has same number of mistake (25) with Random Forest in predicting normal people as people who have heart disease. Logistic Regression make slightly more mistake in predicting heart disease patient as normal compared to Random Forest."
   ]
  },
  {
   "cell_type": "markdown",
   "id": "a4fd6f84-60fe-4ec7-b084-139deaf9bee2",
   "metadata": {
    "tags": []
   },
   "source": [
    "## 4.6 Feature Weightage/Importance"
   ]
  },
  {
   "cell_type": "code",
   "execution_count": 70,
   "id": "8e622967-6064-4235-88c9-1eae6311b341",
   "metadata": {
    "tags": []
   },
   "outputs": [
    {
     "data": {
      "text/plain": [
       "Text(0.5, 0, 'Importances')"
      ]
     },
     "execution_count": 70,
     "metadata": {},
     "output_type": "execute_result"
    },
    {
     "data": {
      "image/png": "[encoded data removed]",
      "text/plain": [
       "<Figure size 432x288 with 1 Axes>"
      ]
     },
     "metadata": {
      "needs_background": "light"
     },
     "output_type": "display_data"
    }
   ],
   "source": [
    "# Creating bar plot to show the Feature Importance in Random Forest\n",
    "sorted_index = rf_clf.feature_importances_.argsort()\n",
    "sns.barplot(y = heart_X_train.columns[sorted_index], \n",
    "            x = rf_clf.feature_importances_[sorted_index])\n",
    "plt.ylabel(\"Features\")\n",
    "plt.title(\"Random Forest Feature Importances\")\n",
    "plt.xlabel(\"Importances\")"
   ]
  },
  {
   "cell_type": "code",
   "execution_count": null,
   "id": "d0f321bf-a2d9-4c73-98c1-0d88e6e8c604",
   "metadata": {},
   "outputs": [],
   "source": []
  }
 ],
 "metadata": {
  "kernelspec": {
   "display_name": "Python 3 (ipykernel)",
   "language": "python",
   "name": "python3"
  },
  "language_info": {
   "codemirror_mode": {
    "name": "ipython",
    "version": 3
   },
   "file_extension": ".py",
   "mimetype": "text/x-python",
   "name": "python",
   "nbconvert_exporter": "python",
   "pygments_lexer": "ipython3",
   "version": "3.9.6"
  }
 },
 "nbformat": 4,
 "nbformat_minor": 5
}
